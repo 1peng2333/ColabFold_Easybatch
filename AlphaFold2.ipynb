{
  "nbformat": 4,
  "nbformat_minor": 0,
  "metadata": {
    "accelerator": "GPU",
    "colab": {
      "name": "AlphaFold2PredictStructure.ipynb",
      "provenance": [],
      "collapsed_sections": [],
      "machine_shape": "hm",
      "include_colab_link": true
    },
    "kernelspec": {
      "display_name": "Python 3",
      "name": "python3"
    },
    "language_info": {
      "name": "python"
    },
    "widgets": {
      "application/vnd.jupyter.widget-state+json": {
        "93ad0d408a2a4c039b944f6c1244fdca": {
          "model_module": "@jupyter-widgets/controls",
          "model_name": "VBoxModel",
          "state": {
            "_view_name": "VBoxView",
            "_dom_classes": [
              "widget-interact"
            ],
            "_model_name": "VBoxModel",
            "_view_module": "@jupyter-widgets/controls",
            "_model_module_version": "1.5.0",
            "_view_count": null,
            "_view_module_version": "1.5.0",
            "box_style": "",
            "layout": "IPY_MODEL_75dcd70751c646748cf1c79fef4c8333",
            "_model_module": "@jupyter-widgets/controls",
            "children": [
              "IPY_MODEL_7c47be1687b9493c8e3cdbed8eb0f3ce",
              "IPY_MODEL_74adeafc693846b085b99e98107534a8",
              "IPY_MODEL_917a4249287f404f8f4a9f4d835c660f",
              "IPY_MODEL_8f1ffa3b8a614a1d93017d6910f5f633",
              "IPY_MODEL_796d332932414d08a8a3b0744a969cb2"
            ]
          }
        },
        "75dcd70751c646748cf1c79fef4c8333": {
          "model_module": "@jupyter-widgets/base",
          "model_name": "LayoutModel",
          "state": {
            "_view_name": "LayoutView",
            "grid_template_rows": null,
            "right": null,
            "justify_content": null,
            "_view_module": "@jupyter-widgets/base",
            "overflow": null,
            "_model_module_version": "1.2.0",
            "_view_count": null,
            "flex_flow": null,
            "width": null,
            "min_width": null,
            "border": null,
            "align_items": null,
            "bottom": null,
            "_model_module": "@jupyter-widgets/base",
            "top": null,
            "grid_column": null,
            "overflow_y": null,
            "overflow_x": null,
            "grid_auto_flow": null,
            "grid_area": null,
            "grid_template_columns": null,
            "flex": null,
            "_model_name": "LayoutModel",
            "justify_items": null,
            "grid_row": null,
            "max_height": null,
            "align_content": null,
            "visibility": null,
            "align_self": null,
            "height": null,
            "min_height": null,
            "padding": null,
            "grid_auto_rows": null,
            "grid_gap": null,
            "max_width": null,
            "order": null,
            "_view_module_version": "1.2.0",
            "grid_template_areas": null,
            "object_position": null,
            "object_fit": null,
            "grid_auto_columns": null,
            "margin": null,
            "display": null,
            "left": null
          }
        },
        "7c47be1687b9493c8e3cdbed8eb0f3ce": {
          "model_module": "@jupyter-widgets/controls",
          "model_name": "DropdownModel",
          "state": {
            "_options_labels": [
              "model_1"
            ],
            "_view_name": "DropdownView",
            "style": "IPY_MODEL_5dea1aa06bd549b892f9492e9bcbc867",
            "_dom_classes": [],
            "description": "model_name",
            "_model_name": "DropdownModel",
            "index": 0,
            "_view_module": "@jupyter-widgets/controls",
            "_model_module_version": "1.5.0",
            "_view_count": null,
            "disabled": false,
            "_view_module_version": "1.5.0",
            "description_tooltip": null,
            "_model_module": "@jupyter-widgets/controls",
            "layout": "IPY_MODEL_cd5988c13e5742008eb3e1ef1cf9dd2a"
          }
        },
        "74adeafc693846b085b99e98107534a8": {
          "model_module": "@jupyter-widgets/controls",
          "model_name": "CheckboxModel",
          "state": {
            "_view_name": "CheckboxView",
            "style": "IPY_MODEL_647c3680390643a0affd69d8050a3519",
            "_dom_classes": [],
            "description": "show_sidechains",
            "_model_name": "CheckboxModel",
            "_view_module": "@jupyter-widgets/controls",
            "_model_module_version": "1.5.0",
            "value": false,
            "_view_count": null,
            "disabled": false,
            "_view_module_version": "1.5.0",
            "indent": true,
            "description_tooltip": null,
            "_model_module": "@jupyter-widgets/controls",
            "layout": "IPY_MODEL_cdb93c709bc747d4b9b24577a4d61667"
          }
        },
        "917a4249287f404f8f4a9f4d835c660f": {
          "model_module": "@jupyter-widgets/controls",
          "model_name": "CheckboxModel",
          "state": {
            "_view_name": "CheckboxView",
            "style": "IPY_MODEL_6cdbdc3801894a398230fe2af077240a",
            "_dom_classes": [],
            "description": "show_mainchain",
            "_model_name": "CheckboxModel",
            "_view_module": "@jupyter-widgets/controls",
            "_model_module_version": "1.5.0",
            "value": false,
            "_view_count": null,
            "disabled": false,
            "_view_module_version": "1.5.0",
            "indent": true,
            "description_tooltip": null,
            "_model_module": "@jupyter-widgets/controls",
            "layout": "IPY_MODEL_29738690868947d189674b1d315ac12e"
          }
        },
        "8f1ffa3b8a614a1d93017d6910f5f633": {
          "model_module": "@jupyter-widgets/controls",
          "model_name": "DropdownModel",
          "state": {
            "_options_labels": [
              "None",
              "rainbow",
              "lDDT"
            ],
            "_view_name": "DropdownView",
            "style": "IPY_MODEL_cfdbe40824ad419d89da3356a4355764",
            "_dom_classes": [],
            "description": "color",
            "_model_name": "DropdownModel",
            "index": 2,
            "_view_module": "@jupyter-widgets/controls",
            "_model_module_version": "1.5.0",
            "_view_count": null,
            "disabled": false,
            "_view_module_version": "1.5.0",
            "description_tooltip": null,
            "_model_module": "@jupyter-widgets/controls",
            "layout": "IPY_MODEL_c9bb0e0e3ae84cf9857fec2fcb4323fb"
          }
        },
        "796d332932414d08a8a3b0744a969cb2": {
          "model_module": "@jupyter-widgets/output",
          "model_name": "OutputModel",
          "state": {
            "_view_name": "OutputView",
            "msg_id": "",
            "_dom_classes": [],
            "_model_name": "OutputModel",
            "outputs": [
              {
                "output_type": "display_data",
                "metadata": {
                  "tags": []
                },
                "application/3dmoljs_load.v0": "<div id=\"3dmolviewer_16268281296228747\"  style=\"position: relative; width: 640px; height: 480px\">\n        <p id=\"3dmolwarning_16268281296228747\" style=\"background-color:#ffcccc;color:black\">You appear to be running in JupyterLab (or JavaScript failed to load for some other reason).  You need to install the 3dmol extension: <br>\n        <tt>jupyter labextension install jupyterlab_3dmol</tt></p>\n        </div>\n<script>\n\nvar loadScriptAsync = function(uri){\n  return new Promise((resolve, reject) => {\n    var tag = document.createElement('script');\n    tag.src = uri;\n    tag.async = true;\n    tag.onload = () => {\n      resolve();\n    };\n  var firstScriptTag = document.getElementsByTagName('script')[0];\n  firstScriptTag.parentNode.insertBefore(tag, firstScriptTag);\n});\n};\n\nif(typeof $3Dmolpromise === 'undefined') {\n$3Dmolpromise = null;\n  $3Dmolpromise = loadScriptAsync('https://3dmol.org/build/3Dmol.js');\n}\n\nvar viewer_16268281296228747 = null;\nvar warn = document.getElementById(\"3dmolwarning_16268281296228747\");\nif(warn) {\n    warn.parentNode.removeChild(warn);\n}\n$3Dmolpromise.then(function() {\nviewer_16268281296228747 = $3Dmol.createViewer($(\"#3dmolviewer_16268281296228747\"),{backgroundColor:\"white\"});\nviewer_16268281296228747.zoomTo();\n\tviewer_16268281296228747.addModel(\"ATOM      1  N   MET A   1     -13.806  -1.997  19.716  1.00  0.52           N  \\nATOM      2  CA  MET A   1     -12.745  -2.790  19.102  1.00  0.52           C  \\nATOM      3  C   MET A   1     -12.424  -2.277  17.702  1.00  0.52           C  \\nATOM      4  CB  MET A   1     -13.142  -4.266  19.040  1.00  0.52           C  \\nATOM      5  O   MET A   1     -13.330  -2.023  16.907  1.00  0.52           O  \\nATOM      6  CG  MET A   1     -13.278  -4.922  20.404  1.00  0.52           C  \\nATOM      7  SD  MET A   1     -13.091  -6.746  20.329  1.00  0.52           S  \\nATOM      8  CE  MET A   1     -13.204  -7.152  22.094  1.00  0.52           C  \\nATOM      9  N   ALA A   2     -11.505  -1.405  17.564  1.00  0.69           N  \\nATOM     10  CA  ALA A   2     -11.116  -0.746  16.321  1.00  0.69           C  \\nATOM     11  C   ALA A   2     -10.915  -1.763  15.201  1.00  0.69           C  \\nATOM     12  CB  ALA A   2      -9.843   0.072  16.527  1.00  0.69           C  \\nATOM     13  O   ALA A   2     -10.271  -2.796  15.400  1.00  0.69           O  \\nATOM     14  N   LYS A   3     -11.831  -1.860  14.378  1.00  0.88           N  \\nATOM     15  CA  LYS A   3     -11.801  -2.729  13.205  1.00  0.88           C  \\nATOM     16  C   LYS A   3     -10.572  -2.450  12.345  1.00  0.88           C  \\nATOM     17  CB  LYS A   3     -13.073  -2.554  12.375  1.00  0.88           C  \\nATOM     18  O   LYS A   3     -10.211  -1.291  12.127  1.00  0.88           O  \\nATOM     19  CG  LYS A   3     -13.331  -3.686  11.391  1.00  0.88           C  \\nATOM     20  CD  LYS A   3     -14.695  -3.549  10.727  1.00  0.88           C  \\nATOM     21  CE  LYS A   3     -14.935  -4.656   9.709  1.00  0.88           C  \\nATOM     22  NZ  LYS A   3     -16.277  -4.535   9.065  1.00  0.88           N  \\nATOM     23  N   THR A   4      -9.712  -3.434  12.323  1.00  0.91           N  \\nATOM     24  CA  THR A   4      -8.514  -3.325  11.497  1.00  0.91           C  \\nATOM     25  C   THR A   4      -8.745  -3.951  10.125  1.00  0.91           C  \\nATOM     26  CB  THR A   4      -7.306  -3.998  12.175  1.00  0.91           C  \\nATOM     27  O   THR A   4      -9.560  -4.865   9.983  1.00  0.91           O  \\nATOM     28  CG2 THR A   4      -6.932  -3.283  13.469  1.00  0.91           C  \\nATOM     29  OG1 THR A   4      -7.630  -5.362  12.472  1.00  0.91           O  \\nATOM     30  N   ILE A   5      -8.176  -3.277   9.101  1.00  0.93           N  \\nATOM     31  CA  ILE A   5      -8.267  -3.781   7.735  1.00  0.93           C  \\nATOM     32  C   ILE A   5      -6.874  -4.143   7.225  1.00  0.93           C  \\nATOM     33  CB  ILE A   5      -8.931  -2.751   6.796  1.00  0.93           C  \\nATOM     34  O   ILE A   5      -5.893  -3.469   7.550  1.00  0.93           O  \\nATOM     35  CG1 ILE A   5      -8.187  -1.412   6.860  1.00  0.93           C  \\nATOM     36  CG2 ILE A   5     -10.411  -2.572   7.149  1.00  0.93           C  \\nATOM     37  CD1 ILE A   5      -8.680  -0.381   5.854  1.00  0.93           C  \\nATOM     38  N   LYS A   6      -6.898  -5.323   6.664  1.00  0.95           N  \\nATOM     39  CA  LYS A   6      -5.666  -5.786   6.033  1.00  0.95           C  \\nATOM     40  C   LYS A   6      -5.620  -5.391   4.560  1.00  0.95           C  \\nATOM     41  CB  LYS A   6      -5.528  -7.303   6.173  1.00  0.95           C  \\nATOM     42  O   LYS A   6      -6.518  -5.739   3.790  1.00  0.95           O  \\nATOM     43  CG  LYS A   6      -4.136  -7.830   5.857  1.00  0.95           C  \\nATOM     44  CD  LYS A   6      -4.021  -9.319   6.157  1.00  0.95           C  \\nATOM     45  CE  LYS A   6      -2.640  -9.855   5.806  1.00  0.95           C  \\nATOM     46  NZ  LYS A   6      -2.509 -11.306   6.135  1.00  0.95           N  \\nATOM     47  N   ILE A   7      -4.537  -4.671   4.215  1.00  0.95           N  \\nATOM     48  CA  ILE A   7      -4.397  -4.168   2.853  1.00  0.95           C  \\nATOM     49  C   ILE A   7      -3.185  -4.815   2.186  1.00  0.95           C  \\nATOM     50  CB  ILE A   7      -4.263  -2.629   2.829  1.00  0.95           C  \\nATOM     51  O   ILE A   7      -2.079  -4.785   2.731  1.00  0.95           O  \\nATOM     52  CG1 ILE A   7      -5.407  -1.982   3.617  1.00  0.95           C  \\nATOM     53  CG2 ILE A   7      -4.230  -2.112   1.388  1.00  0.95           C  \\nATOM     54  CD1 ILE A   7      -5.144  -0.536   4.015  1.00  0.95           C  \\nATOM     55  N   THR A   8      -3.387  -5.377   1.022  1.00  0.96           N  \\nATOM     56  CA  THR A   8      -2.324  -6.015   0.252  1.00  0.96           C  \\nATOM     57  C   THR A   8      -2.216  -5.393  -1.137  1.00  0.96           C  \\nATOM     58  CB  THR A   8      -2.560  -7.531   0.122  1.00  0.96           C  \\nATOM     59  O   THR A   8      -3.227  -5.186  -1.811  1.00  0.96           O  \\nATOM     60  CG2 THR A   8      -1.372  -8.217  -0.543  1.00  0.96           C  \\nATOM     61  OG1 THR A   8      -2.754  -8.092   1.426  1.00  0.96           O  \\nATOM     62  N   GLN A   9      -1.038  -5.077  -1.469  1.00  0.96           N  \\nATOM     63  CA  GLN A   9      -0.803  -4.572  -2.818  1.00  0.96           C  \\nATOM     64  C   GLN A   9      -0.762  -5.710  -3.833  1.00  0.96           C  \\nATOM     65  CB  GLN A   9       0.500  -3.772  -2.872  1.00  0.96           C  \\nATOM     66  O   GLN A   9       0.076  -6.609  -3.731  1.00  0.96           O  \\nATOM     67  CG  GLN A   9       0.764  -3.118  -4.221  1.00  0.96           C  \\nATOM     68  CD  GLN A   9       2.068  -2.342  -4.252  1.00  0.96           C  \\nATOM     69  NE2 GLN A   9       2.162  -1.377  -5.160  1.00  0.96           N  \\nATOM     70  OE1 GLN A   9       2.983  -2.608  -3.466  1.00  0.96           O  \\nATOM     71  N   THR A  10      -1.580  -5.690  -4.775  1.00  0.96           N  \\nATOM     72  CA  THR A  10      -1.696  -6.784  -5.732  1.00  0.96           C  \\nATOM     73  C   THR A  10      -1.107  -6.386  -7.082  1.00  0.96           C  \\nATOM     74  CB  THR A  10      -3.163  -7.214  -5.916  1.00  0.96           C  \\nATOM     75  O   THR A  10      -0.619  -7.238  -7.828  1.00  0.96           O  \\nATOM     76  CG2 THR A  10      -3.727  -7.809  -4.630  1.00  0.96           C  \\nATOM     77  OG1 THR A  10      -3.946  -6.072  -6.284  1.00  0.96           O  \\nATOM     78  N   ARG A  11      -1.034  -5.114  -7.310  1.00  0.94           N  \\nATOM     79  CA  ARG A  11      -0.529  -4.626  -8.589  1.00  0.94           C  \\nATOM     80  C   ARG A  11       0.649  -3.680  -8.388  1.00  0.94           C  \\nATOM     81  CB  ARG A  11      -1.639  -3.922  -9.372  1.00  0.94           C  \\nATOM     82  O   ARG A  11       0.815  -3.106  -7.310  1.00  0.94           O  \\nATOM     83  CG  ARG A  11      -2.768  -4.844  -9.806  1.00  0.94           C  \\nATOM     84  CD  ARG A  11      -3.715  -4.157 -10.780  1.00  0.94           C  \\nATOM     85  NE  ARG A  11      -4.760  -5.064 -11.246  1.00  0.94           N  \\nATOM     86  NH1 ARG A  11      -5.827  -3.491 -12.560  1.00  0.94           N  \\nATOM     87  NH2 ARG A  11      -6.637  -5.632 -12.441  1.00  0.94           N  \\nATOM     88  CZ  ARG A  11      -5.739  -4.727 -12.081  1.00  0.94           C  \\nATOM     89  N   SER A  12       1.477  -3.583  -9.425  1.00  0.94           N  \\nATOM     90  CA  SER A  12       2.681  -2.760  -9.370  1.00  0.94           C  \\nATOM     91  C   SER A  12       2.342  -1.277  -9.475  1.00  0.94           C  \\nATOM     92  CB  SER A  12       3.649  -3.151 -10.487  1.00  0.94           C  \\nATOM     93  O   SER A  12       1.341  -0.906 -10.092  1.00  0.94           O  \\nATOM     94  OG  SER A  12       4.783  -2.301 -10.489  1.00  0.94           O  \\nATOM     95  N   ALA A  13       3.189  -0.436  -8.791  1.00  0.92           N  \\nATOM     96  CA  ALA A  13       3.035   1.016  -8.839  1.00  0.92           C  \\nATOM     97  C   ALA A  13       3.701   1.597 -10.083  1.00  0.92           C  \\nATOM     98  CB  ALA A  13       3.618   1.655  -7.580  1.00  0.92           C  \\nATOM     99  O   ALA A  13       3.557   2.787 -10.374  1.00  0.92           O  \\nATOM    100  N   ILE A  14       4.368   0.784 -10.897  1.00  0.93           N  \\nATOM    101  CA  ILE A  14       5.105   1.272 -12.057  1.00  0.93           C  \\nATOM    102  C   ILE A  14       4.126   1.749 -13.128  1.00  0.93           C  \\nATOM    103  CB  ILE A  14       6.040   0.185 -12.632  1.00  0.93           C  \\nATOM    104  O   ILE A  14       3.169   1.044 -13.461  1.00  0.93           O  \\nATOM    105  CG1 ILE A  14       7.094  -0.217 -11.594  1.00  0.93           C  \\nATOM    106  CG2 ILE A  14       6.703   0.671 -13.925  1.00  0.93           C  \\nATOM    107  CD1 ILE A  14       7.907  -1.445 -11.979  1.00  0.93           C  \\nATOM    108  N   GLY A  15       4.265   3.040 -13.616  1.00  0.93           N  \\nATOM    109  CA  GLY A  15       3.457   3.593 -14.691  1.00  0.93           C  \\nATOM    110  C   GLY A  15       2.140   4.173 -14.211  1.00  0.93           C  \\nATOM    111  O   GLY A  15       1.241   4.433 -15.013  1.00  0.93           O  \\nATOM    112  N   ARG A  16       2.012   4.245 -12.832  1.00  0.93           N  \\nATOM    113  CA  ARG A  16       0.771   4.796 -12.298  1.00  0.93           C  \\nATOM    114  C   ARG A  16       0.915   6.286 -12.006  1.00  0.93           C  \\nATOM    115  CB  ARG A  16       0.353   4.051 -11.028  1.00  0.93           C  \\nATOM    116  O   ARG A  16       2.029   6.815 -11.982  1.00  0.93           O  \\nATOM    117  CG  ARG A  16       0.068   2.574 -11.247  1.00  0.93           C  \\nATOM    118  CD  ARG A  16      -1.091   2.361 -12.211  1.00  0.93           C  \\nATOM    119  NE  ARG A  16      -1.356   0.941 -12.430  1.00  0.93           N  \\nATOM    120  NH1 ARG A  16      -3.077   1.282 -13.933  1.00  0.93           N  \\nATOM    121  NH2 ARG A  16      -2.447  -0.849 -13.367  1.00  0.93           N  \\nATOM    122  CZ  ARG A  16      -2.292   0.461 -13.243  1.00  0.93           C  \\nATOM    123  N   LEU A  17      -0.155   6.903 -11.881  1.00  0.95           N  \\nATOM    124  CA  LEU A  17      -0.167   8.328 -11.570  1.00  0.95           C  \\nATOM    125  C   LEU A  17       0.584   8.608 -10.273  1.00  0.95           C  \\nATOM    126  CB  LEU A  17      -1.605   8.842 -11.462  1.00  0.95           C  \\nATOM    127  O   LEU A  17       0.590   7.776  -9.362  1.00  0.95           O  \\nATOM    128  CG  LEU A  17      -2.446   8.776 -12.738  1.00  0.95           C  \\nATOM    129  CD1 LEU A  17      -3.903   9.107 -12.430  1.00  0.95           C  \\nATOM    130  CD2 LEU A  17      -1.889   9.723 -13.795  1.00  0.95           C  \\nATOM    131  N   PRO A  18       1.281   9.724 -10.185  1.00  0.95           N  \\nATOM    132  CA  PRO A  18       2.020  10.090  -8.975  1.00  0.95           C  \\nATOM    133  C   PRO A  18       1.141  10.097  -7.726  1.00  0.95           C  \\nATOM    134  CB  PRO A  18       2.535  11.497  -9.288  1.00  0.95           C  \\nATOM    135  O   PRO A  18       1.602   9.740  -6.639  1.00  0.95           O  \\nATOM    136  CG  PRO A  18       2.594  11.559 -10.780  1.00  0.95           C  \\nATOM    137  CD  PRO A  18       1.498  10.698 -11.337  1.00  0.95           C  \\nATOM    138  N   LYS A  19      -0.107  10.408  -7.903  1.00  0.95           N  \\nATOM    139  CA  LYS A  19      -1.029  10.452  -6.771  1.00  0.95           C  \\nATOM    140  C   LYS A  19      -1.287   9.054  -6.218  1.00  0.95           C  \\nATOM    141  CB  LYS A  19      -2.349  11.106  -7.180  1.00  0.95           C  \\nATOM    142  O   LYS A  19      -1.356   8.865  -5.002  1.00  0.95           O  \\nATOM    143  CG  LYS A  19      -2.246  12.603  -7.436  1.00  0.95           C  \\nATOM    144  CD  LYS A  19      -3.610  13.217  -7.721  1.00  0.95           C  \\nATOM    145  CE  LYS A  19      -3.510  14.717  -7.964  1.00  0.95           C  \\nATOM    146  NZ  LYS A  19      -4.849  15.327  -8.219  1.00  0.95           N  \\nATOM    147  N   HIS A  20      -1.357   8.107  -7.073  1.00  0.94           N  \\nATOM    148  CA  HIS A  20      -1.584   6.728  -6.655  1.00  0.94           C  \\nATOM    149  C   HIS A  20      -0.361   6.160  -5.942  1.00  0.94           C  \\nATOM    150  CB  HIS A  20      -1.942   5.855  -7.859  1.00  0.94           C  \\nATOM    151  O   HIS A  20      -0.494   5.461  -4.935  1.00  0.94           O  \\nATOM    152  CG  HIS A  20      -3.262   6.196  -8.475  1.00  0.94           C  \\nATOM    153  CD2 HIS A  20      -3.664   6.201  -9.768  1.00  0.94           C  \\nATOM    154  ND1 HIS A  20      -4.351   6.593  -7.730  1.00  0.94           N  \\nATOM    155  CE1 HIS A  20      -5.369   6.827  -8.541  1.00  0.94           C  \\nATOM    156  NE2 HIS A  20      -4.979   6.597  -9.783  1.00  0.94           N  \\nATOM    157  N   LYS A  21       0.718   6.548  -6.478  1.00  0.94           N  \\nATOM    158  CA  LYS A  21       1.960   6.109  -5.848  1.00  0.94           C  \\nATOM    159  C   LYS A  21       2.088   6.671  -4.435  1.00  0.94           C  \\nATOM    160  CB  LYS A  21       3.167   6.528  -6.689  1.00  0.94           C  \\nATOM    161  O   LYS A  21       2.481   5.956  -3.510  1.00  0.94           O  \\nATOM    162  CG  LYS A  21       3.282   5.793  -8.016  1.00  0.94           C  \\nATOM    163  CD  LYS A  21       4.523   6.222  -8.788  1.00  0.94           C  \\nATOM    164  CE  LYS A  21       4.603   5.538 -10.146  1.00  0.94           C  \\nATOM    165  NZ  LYS A  21       5.828   5.942 -10.898  1.00  0.94           N  \\nATOM    166  N   ALA A  22       1.691   7.892  -4.311  1.00  0.95           N  \\nATOM    167  CA  ALA A  22       1.760   8.553  -3.010  1.00  0.95           C  \\nATOM    168  C   ALA A  22       0.815   7.894  -2.009  1.00  0.95           C  \\nATOM    169  CB  ALA A  22       1.431  10.037  -3.150  1.00  0.95           C  \\nATOM    170  O   ALA A  22       1.163   7.722  -0.838  1.00  0.95           O  \\nATOM    171  N   THR A  23      -0.354   7.484  -2.572  1.00  0.96           N  \\nATOM    172  CA  THR A  23      -1.333   6.831  -1.711  1.00  0.96           C  \\nATOM    173  C   THR A  23      -0.811   5.482  -1.225  1.00  0.96           C  \\nATOM    174  CB  THR A  23      -2.675   6.632  -2.440  1.00  0.96           C  \\nATOM    175  O   THR A  23      -0.949   5.144  -0.047  1.00  0.96           O  \\nATOM    176  CG2 THR A  23      -3.722   6.029  -1.510  1.00  0.96           C  \\nATOM    177  OG1 THR A  23      -3.146   7.899  -2.915  1.00  0.96           O  \\nATOM    178  N   LEU A  24      -0.212   4.722  -2.124  1.00  0.95           N  \\nATOM    179  CA  LEU A  24       0.360   3.432  -1.756  1.00  0.95           C  \\nATOM    180  C   LEU A  24       1.434   3.599  -0.686  1.00  0.95           C  \\nATOM    181  CB  LEU A  24       0.951   2.738  -2.986  1.00  0.95           C  \\nATOM    182  O   LEU A  24       1.459   2.855   0.296  1.00  0.95           O  \\nATOM    183  CG  LEU A  24      -0.051   2.210  -4.013  1.00  0.95           C  \\nATOM    184  CD1 LEU A  24       0.682   1.619  -5.213  1.00  0.95           C  \\nATOM    185  CD2 LEU A  24      -0.972   1.173  -3.379  1.00  0.95           C  \\nATOM    186  N   LEU A  25       2.258   4.636  -0.869  1.00  0.94           N  \\nATOM    187  CA  LEU A  25       3.297   4.926   0.113  1.00  0.94           C  \\nATOM    188  C   LEU A  25       2.684   5.363   1.439  1.00  0.94           C  \\nATOM    189  CB  LEU A  25       4.239   6.014  -0.410  1.00  0.94           C  \\nATOM    190  O   LEU A  25       3.153   4.960   2.507  1.00  0.94           O  \\nATOM    191  CG  LEU A  25       5.199   5.600  -1.527  1.00  0.94           C  \\nATOM    192  CD1 LEU A  25       5.890   6.826  -2.113  1.00  0.94           C  \\nATOM    193  CD2 LEU A  25       6.225   4.599  -1.006  1.00  0.94           C  \\nATOM    194  N   GLY A  26       1.611   6.224   1.336  1.00  0.94           N  \\nATOM    195  CA  GLY A  26       0.895   6.676   2.518  1.00  0.94           C  \\nATOM    196  C   GLY A  26       0.284   5.540   3.317  1.00  0.94           C  \\nATOM    197  O   GLY A  26       0.257   5.586   4.549  1.00  0.94           O  \\nATOM    198  N   LEU A  27      -0.140   4.491   2.557  1.00  0.94           N  \\nATOM    199  CA  LEU A  27      -0.719   3.330   3.224  1.00  0.94           C  \\nATOM    200  C   LEU A  27       0.373   2.426   3.786  1.00  0.94           C  \\nATOM    201  CB  LEU A  27      -1.603   2.540   2.255  1.00  0.94           C  \\nATOM    202  O   LEU A  27       0.111   1.602   4.666  1.00  0.94           O  \\nATOM    203  CG  LEU A  27      -2.948   3.173   1.894  1.00  0.94           C  \\nATOM    204  CD1 LEU A  27      -3.582   2.437   0.719  1.00  0.94           C  \\nATOM    205  CD2 LEU A  27      -3.881   3.171   3.100  1.00  0.94           C  \\nATOM    206  N   GLY A  28       1.603   2.643   3.346  1.00  0.94           N  \\nATOM    207  CA  GLY A  28       2.746   1.876   3.814  1.00  0.94           C  \\nATOM    208  C   GLY A  28       3.059   0.677   2.939  1.00  0.94           C  \\nATOM    209  O   GLY A  28       3.717  -0.267   3.381  1.00  0.94           O  \\nATOM    210  N   LEU A  29       2.520   0.715   1.741  1.00  0.94           N  \\nATOM    211  CA  LEU A  29       2.761  -0.375   0.802  1.00  0.94           C  \\nATOM    212  C   LEU A  29       3.967  -0.075  -0.082  1.00  0.94           C  \\nATOM    213  CB  LEU A  29       1.524  -0.617  -0.067  1.00  0.94           C  \\nATOM    214  O   LEU A  29       4.033   0.984  -0.710  1.00  0.94           O  \\nATOM    215  CG  LEU A  29       0.260  -1.073   0.664  1.00  0.94           C  \\nATOM    216  CD1 LEU A  29      -0.956  -0.941  -0.246  1.00  0.94           C  \\nATOM    217  CD2 LEU A  29       0.414  -2.508   1.155  1.00  0.94           C  \\nATOM    218  N   ARG A  30       4.964  -1.050  -0.176  1.00  0.92           N  \\nATOM    219  CA  ARG A  30       6.232  -0.767  -0.840  1.00  0.92           C  \\nATOM    220  C   ARG A  30       6.433  -1.677  -2.047  1.00  0.92           C  \\nATOM    221  CB  ARG A  30       7.398  -0.928   0.138  1.00  0.92           C  \\nATOM    222  O   ARG A  30       7.001  -1.260  -3.058  1.00  0.92           O  \\nATOM    223  CG  ARG A  30       7.402   0.092   1.265  1.00  0.92           C  \\nATOM    224  CD  ARG A  30       8.613  -0.075   2.173  1.00  0.92           C  \\nATOM    225  NE  ARG A  30       8.661   0.959   3.203  1.00  0.92           N  \\nATOM    226  NH1 ARG A  30      10.597   0.175   4.191  1.00  0.92           N  \\nATOM    227  NH2 ARG A  30       9.550   2.035   5.027  1.00  0.92           N  \\nATOM    228  CZ  ARG A  30       9.602   1.054   4.138  1.00  0.92           C  \\nATOM    229  N   ARG A  31       5.951  -2.952  -1.912  1.00  0.92           N  \\nATOM    230  CA  ARG A  31       6.145  -3.923  -2.984  1.00  0.92           C  \\nATOM    231  C   ARG A  31       4.881  -4.746  -3.213  1.00  0.92           C  \\nATOM    232  CB  ARG A  31       7.321  -4.848  -2.666  1.00  0.92           C  \\nATOM    233  O   ARG A  31       3.964  -4.727  -2.389  1.00  0.92           O  \\nATOM    234  CG  ARG A  31       7.153  -5.639  -1.378  1.00  0.92           C  \\nATOM    235  CD  ARG A  31       8.407  -6.429  -1.033  1.00  0.92           C  \\nATOM    236  NE  ARG A  31       8.261  -7.147   0.230  1.00  0.92           N  \\nATOM    237  NH1 ARG A  31      10.356  -8.120   0.157  1.00  0.92           N  \\nATOM    238  NH2 ARG A  31       8.953  -8.540   1.920  1.00  0.92           N  \\nATOM    239  CZ  ARG A  31       9.190  -7.934   0.766  1.00  0.92           C  \\nATOM    240  N   ILE A  32       4.831  -5.369  -4.403  1.00  0.95           N  \\nATOM    241  CA  ILE A  32       3.709  -6.245  -4.727  1.00  0.95           C  \\nATOM    242  C   ILE A  32       3.678  -7.423  -3.756  1.00  0.95           C  \\nATOM    243  CB  ILE A  32       3.791  -6.753  -6.184  1.00  0.95           C  \\nATOM    244  O   ILE A  32       4.704  -8.065  -3.516  1.00  0.95           O  \\nATOM    245  CG1 ILE A  32       3.638  -5.586  -7.165  1.00  0.95           C  \\nATOM    246  CG2 ILE A  32       2.730  -7.828  -6.441  1.00  0.95           C  \\nATOM    247  CD1 ILE A  32       3.796  -5.982  -8.627  1.00  0.95           C  \\nATOM    248  N   GLY A  33       2.509  -7.646  -3.050  1.00  0.94           N  \\nATOM    249  CA  GLY A  33       2.311  -8.712  -2.080  1.00  0.94           C  \\nATOM    250  C   GLY A  33       2.520  -8.261  -0.647  1.00  0.94           C  \\nATOM    251  O   GLY A  33       2.349  -9.047   0.287  1.00  0.94           O  \\nATOM    252  N   HIS A  34       2.974  -7.053  -0.459  1.00  0.95           N  \\nATOM    253  CA  HIS A  34       3.175  -6.495   0.873  1.00  0.95           C  \\nATOM    254  C   HIS A  34       1.843  -6.192   1.551  1.00  0.95           C  \\nATOM    255  CB  HIS A  34       4.027  -5.227   0.800  1.00  0.95           C  \\nATOM    256  O   HIS A  34       0.970  -5.556   0.956  1.00  0.95           O  \\nATOM    257  CG  HIS A  34       4.478  -4.729   2.136  1.00  0.95           C  \\nATOM    258  CD2 HIS A  34       4.909  -5.394   3.233  1.00  0.95           C  \\nATOM    259  ND1 HIS A  34       4.515  -3.389   2.457  1.00  0.95           N  \\nATOM    260  CE1 HIS A  34       4.951  -3.252   3.698  1.00  0.95           C  \\nATOM    261  NE2 HIS A  34       5.197  -4.454   4.191  1.00  0.95           N  \\nATOM    262  N   THR A  35       1.727  -6.655   2.730  1.00  0.95           N  \\nATOM    263  CA  THR A  35       0.485  -6.487   3.477  1.00  0.95           C  \\nATOM    264  C   THR A  35       0.703  -5.591   4.693  1.00  0.95           C  \\nATOM    265  CB  THR A  35      -0.081  -7.845   3.932  1.00  0.95           C  \\nATOM    266  O   THR A  35       1.716  -5.710   5.385  1.00  0.95           O  \\nATOM    267  CG2 THR A  35      -1.458  -7.682   4.567  1.00  0.95           C  \\nATOM    268  OG1 THR A  35      -0.191  -8.714   2.798  1.00  0.95           O  \\nATOM    269  N   VAL A  36      -0.250  -4.667   4.886  1.00  0.95           N  \\nATOM    270  CA  VAL A  36      -0.199  -3.766   6.033  1.00  0.95           C  \\nATOM    271  C   VAL A  36      -1.556  -3.746   6.734  1.00  0.95           C  \\nATOM    272  CB  VAL A  36       0.206  -2.335   5.613  1.00  0.95           C  \\nATOM    273  O   VAL A  36      -2.598  -3.884   6.089  1.00  0.95           O  \\nATOM    274  CG1 VAL A  36       0.146  -1.385   6.808  1.00  0.95           C  \\nATOM    275  CG2 VAL A  36       1.603  -2.336   4.997  1.00  0.95           C  \\nATOM    276  N   GLU A  37      -1.512  -3.734   8.079  1.00  0.94           N  \\nATOM    277  CA  GLU A  37      -2.723  -3.627   8.887  1.00  0.94           C  \\nATOM    278  C   GLU A  37      -2.923  -2.202   9.396  1.00  0.94           C  \\nATOM    279  CB  GLU A  37      -2.672  -4.603  10.065  1.00  0.94           C  \\nATOM    280  O   GLU A  37      -2.021  -1.621  10.003  1.00  0.94           O  \\nATOM    281  CG  GLU A  37      -2.634  -6.067   9.649  1.00  0.94           C  \\nATOM    282  CD  GLU A  37      -2.673  -7.027  10.827  1.00  0.94           C  \\nATOM    283  OE1 GLU A  37      -2.703  -8.259  10.606  1.00  0.94           O  \\nATOM    284  OE2 GLU A  37      -2.676  -6.543  11.981  1.00  0.94           O  \\nATOM    285  N   ARG A  38      -4.133  -1.681   9.058  1.00  0.92           N  \\nATOM    286  CA  ARG A  38      -4.459  -0.321   9.476  1.00  0.92           C  \\nATOM    287  C   ARG A  38      -5.843  -0.261  10.115  1.00  0.92           C  \\nATOM    288  CB  ARG A  38      -4.389   0.639   8.287  1.00  0.92           C  \\nATOM    289  O   ARG A  38      -6.665  -1.157   9.913  1.00  0.92           O  \\nATOM    290  CG  ARG A  38      -2.999   0.778   7.688  1.00  0.92           C  \\nATOM    291  CD  ARG A  38      -2.072   1.576   8.594  1.00  0.92           C  \\nATOM    292  NE  ARG A  38      -0.792   1.853   7.946  1.00  0.92           N  \\nATOM    293  NH1 ARG A  38      -0.598   3.998   8.783  1.00  0.92           N  \\nATOM    294  NH2 ARG A  38       1.034   3.142   7.419  1.00  0.92           N  \\nATOM    295  CZ  ARG A  38      -0.122   2.997   8.051  1.00  0.92           C  \\nATOM    296  N   GLU A  39      -6.038   0.732  10.908  1.00  0.92           N  \\nATOM    297  CA  GLU A  39      -7.337   0.972  11.530  1.00  0.92           C  \\nATOM    298  C   GLU A  39      -8.370   1.413  10.497  1.00  0.92           C  \\nATOM    299  CB  GLU A  39      -7.218   2.023  12.637  1.00  0.92           C  \\nATOM    300  O   GLU A  39      -8.059   2.193   9.594  1.00  0.92           O  \\nATOM    301  CG  GLU A  39      -6.413   1.558  13.842  1.00  0.92           C  \\nATOM    302  CD  GLU A  39      -6.377   2.578  14.969  1.00  0.92           C  \\nATOM    303  OE1 GLU A  39      -5.852   2.259  16.060  1.00  0.92           O  \\nATOM    304  OE2 GLU A  39      -6.877   3.705  14.759  1.00  0.92           O  \\nATOM    305  N   ASP A  40      -9.556   0.849  10.657  1.00  0.92           N  \\nATOM    306  CA  ASP A  40     -10.616   1.180   9.709  1.00  0.92           C  \\nATOM    307  C   ASP A  40     -11.193   2.565   9.993  1.00  0.92           C  \\nATOM    308  CB  ASP A  40     -11.726   0.128   9.756  1.00  0.92           C  \\nATOM    309  O   ASP A  40     -12.176   2.696  10.725  1.00  0.92           O  \\nATOM    310  CG  ASP A  40     -12.729   0.274   8.625  1.00  0.92           C  \\nATOM    311  OD1 ASP A  40     -12.474   1.052   7.680  1.00  0.92           O  \\nATOM    312  OD2 ASP A  40     -13.784  -0.394   8.679  1.00  0.92           O  \\nATOM    313  N   THR A  41     -10.485   3.610   9.533  1.00  0.93           N  \\nATOM    314  CA  THR A  41     -10.951   4.991   9.610  1.00  0.93           C  \\nATOM    315  C   THR A  41     -11.446   5.471   8.249  1.00  0.93           C  \\nATOM    316  CB  THR A  41      -9.838   5.928  10.115  1.00  0.93           C  \\nATOM    317  O   THR A  41     -11.115   4.881   7.219  1.00  0.93           O  \\nATOM    318  CG2 THR A  41      -9.293   5.460  11.460  1.00  0.93           C  \\nATOM    319  OG1 THR A  41      -8.769   5.949   9.160  1.00  0.93           O  \\nATOM    320  N   PRO A  42     -12.418   6.382   8.211  1.00  0.93           N  \\nATOM    321  CA  PRO A  42     -12.889   6.921   6.933  1.00  0.93           C  \\nATOM    322  C   PRO A  42     -11.755   7.463   6.067  1.00  0.93           C  \\nATOM    323  CB  PRO A  42     -13.840   8.045   7.353  1.00  0.93           C  \\nATOM    324  O   PRO A  42     -11.816   7.376   4.838  1.00  0.93           O  \\nATOM    325  CG  PRO A  42     -14.290   7.670   8.728  1.00  0.93           C  \\nATOM    326  CD  PRO A  42     -13.181   6.916   9.404  1.00  0.93           C  \\nATOM    327  N   ALA A  43     -10.730   7.932   6.686  1.00  0.94           N  \\nATOM    328  CA  ALA A  43      -9.586   8.461   5.948  1.00  0.94           C  \\nATOM    329  C   ALA A  43      -8.859   7.350   5.195  1.00  0.94           C  \\nATOM    330  CB  ALA A  43      -8.625   9.175   6.895  1.00  0.94           C  \\nATOM    331  O   ALA A  43      -8.536   7.501   4.014  1.00  0.94           O  \\nATOM    332  N   ILE A  44      -8.660   6.168   5.872  1.00  0.94           N  \\nATOM    333  CA  ILE A  44      -7.968   5.040   5.259  1.00  0.94           C  \\nATOM    334  C   ILE A  44      -8.830   4.449   4.146  1.00  0.94           C  \\nATOM    335  CB  ILE A  44      -7.620   3.954   6.302  1.00  0.94           C  \\nATOM    336  O   ILE A  44      -8.325   4.118   3.070  1.00  0.94           O  \\nATOM    337  CG1 ILE A  44      -6.597   4.490   7.310  1.00  0.94           C  \\nATOM    338  CG2 ILE A  44      -7.100   2.690   5.612  1.00  0.94           C  \\nATOM    339  CD1 ILE A  44      -5.262   4.880   6.689  1.00  0.94           C  \\nATOM    340  N   ARG A  45     -10.068   4.467   4.364  1.00  0.93           N  \\nATOM    341  CA  ARG A  45     -10.991   3.963   3.352  1.00  0.93           C  \\nATOM    342  C   ARG A  45     -10.964   4.837   2.103  1.00  0.93           C  \\nATOM    343  CB  ARG A  45     -12.414   3.889   3.910  1.00  0.93           C  \\nATOM    344  O   ARG A  45     -11.064   4.331   0.983  1.00  0.93           O  \\nATOM    345  CG  ARG A  45     -12.665   2.683   4.800  1.00  0.93           C  \\nATOM    346  CD  ARG A  45     -14.153   2.409   4.973  1.00  0.93           C  \\nATOM    347  NE  ARG A  45     -14.393   1.287   5.875  1.00  0.93           N  \\nATOM    348  NH1 ARG A  45     -16.622   1.049   5.318  1.00  0.93           N  \\nATOM    349  NH2 ARG A  45     -15.669  -0.344   6.869  1.00  0.93           N  \\nATOM    350  CZ  ARG A  45     -15.561   0.666   6.019  1.00  0.93           C  \\nATOM    351  N   GLY A  46     -10.874   6.161   2.351  1.00  0.95           N  \\nATOM    352  CA  GLY A  46     -10.739   7.073   1.226  1.00  0.95           C  \\nATOM    353  C   GLY A  46      -9.504   6.806   0.387  1.00  0.95           C  \\nATOM    354  O   GLY A  46      -9.574   6.792  -0.844  1.00  0.95           O  \\nATOM    355  N   MET A  47      -8.414   6.532   1.127  1.00  0.95           N  \\nATOM    356  CA  MET A  47      -7.159   6.230   0.446  1.00  0.95           C  \\nATOM    357  C   MET A  47      -7.263   4.922  -0.331  1.00  0.95           C  \\nATOM    358  CB  MET A  47      -6.007   6.152   1.450  1.00  0.95           C  \\nATOM    359  O   MET A  47      -6.801   4.833  -1.470  1.00  0.95           O  \\nATOM    360  CG  MET A  47      -5.626   7.495   2.051  1.00  0.95           C  \\nATOM    361  SD  MET A  47      -4.112   7.400   3.083  1.00  0.95           S  \\nATOM    362  CE  MET A  47      -4.817   6.760   4.627  1.00  0.95           C  \\nATOM    363  N   ILE A  48      -7.873   3.927   0.240  1.00  0.94           N  \\nATOM    364  CA  ILE A  48      -8.043   2.617  -0.379  1.00  0.94           C  \\nATOM    365  C   ILE A  48      -8.906   2.747  -1.632  1.00  0.94           C  \\nATOM    366  CB  ILE A  48      -8.673   1.605   0.604  1.00  0.94           C  \\nATOM    367  O   ILE A  48      -8.588   2.170  -2.675  1.00  0.94           O  \\nATOM    368  CG1 ILE A  48      -7.700   1.293   1.747  1.00  0.94           C  \\nATOM    369  CG2 ILE A  48      -9.085   0.325  -0.130  1.00  0.94           C  \\nATOM    370  CD1 ILE A  48      -8.310   0.465   2.870  1.00  0.94           C  \\nATOM    371  N   ASN A  49      -9.891   3.536  -1.550  1.00  0.95           N  \\nATOM    372  CA  ASN A  49     -10.799   3.730  -2.675  1.00  0.95           C  \\nATOM    373  C   ASN A  49     -10.082   4.339  -3.877  1.00  0.95           C  \\nATOM    374  CB  ASN A  49     -11.984   4.606  -2.264  1.00  0.95           C  \\nATOM    375  O   ASN A  49     -10.363   3.978  -5.021  1.00  0.95           O  \\nATOM    376  CG  ASN A  49     -13.001   3.857  -1.424  1.00  0.95           C  \\nATOM    377  ND2 ASN A  49     -13.764   4.591  -0.624  1.00  0.95           N  \\nATOM    378  OD1 ASN A  49     -13.098   2.630  -1.494  1.00  0.95           O  \\nATOM    379  N   ALA A  50      -9.154   5.176  -3.571  1.00  0.94           N  \\nATOM    380  CA  ALA A  50      -8.392   5.835  -4.628  1.00  0.94           C  \\nATOM    381  C   ALA A  50      -7.522   4.834  -5.383  1.00  0.94           C  \\nATOM    382  CB  ALA A  50      -7.530   6.952  -4.045  1.00  0.94           C  \\nATOM    383  O   ALA A  50      -7.277   4.995  -6.581  1.00  0.94           O  \\nATOM    384  N   VAL A  51      -7.126   3.752  -4.634  1.00  0.95           N  \\nATOM    385  CA  VAL A  51      -6.220   2.785  -5.245  1.00  0.95           C  \\nATOM    386  C   VAL A  51      -6.842   1.391  -5.196  1.00  0.95           C  \\nATOM    387  CB  VAL A  51      -4.841   2.779  -4.548  1.00  0.95           C  \\nATOM    388  O   VAL A  51      -6.129   0.390  -5.094  1.00  0.95           O  \\nATOM    389  CG1 VAL A  51      -4.091   4.081  -4.824  1.00  0.95           C  \\nATOM    390  CG2 VAL A  51      -5.005   2.562  -3.045  1.00  0.95           C  \\nATOM    391  N   SER A  52      -8.159   1.268  -5.233  1.00  0.94           N  \\nATOM    392  CA  SER A  52      -8.925   0.038  -5.062  1.00  0.94           C  \\nATOM    393  C   SER A  52      -8.538  -1.004  -6.107  1.00  0.94           C  \\nATOM    394  CB  SER A  52     -10.425   0.323  -5.145  1.00  0.94           C  \\nATOM    395  O   SER A  52      -8.594  -2.206  -5.842  1.00  0.94           O  \\nATOM    396  OG  SER A  52     -10.764   0.861  -6.412  1.00  0.94           O  \\nATOM    397  N   PHE A  53      -8.046  -0.566  -7.253  1.00  0.94           N  \\nATOM    398  CA  PHE A  53      -7.730  -1.474  -8.350  1.00  0.94           C  \\nATOM    399  C   PHE A  53      -6.325  -2.044  -8.193  1.00  0.94           C  \\nATOM    400  CB  PHE A  53      -7.858  -0.756  -9.697  1.00  0.94           C  \\nATOM    401  O   PHE A  53      -5.926  -2.940  -8.941  1.00  0.94           O  \\nATOM    402  CG  PHE A  53      -7.076   0.527  -9.779  1.00  0.94           C  \\nATOM    403  CD1 PHE A  53      -7.662   1.738  -9.432  1.00  0.94           C  \\nATOM    404  CD2 PHE A  53      -5.753   0.521 -10.202  1.00  0.94           C  \\nATOM    405  CE1 PHE A  53      -6.941   2.927  -9.506  1.00  0.94           C  \\nATOM    406  CE2 PHE A  53      -5.026   1.706 -10.279  1.00  0.94           C  \\nATOM    407  CZ  PHE A  53      -5.622   2.907  -9.932  1.00  0.94           C  \\nATOM    408  N   MET A  54      -5.602  -1.551  -7.161  1.00  0.94           N  \\nATOM    409  CA  MET A  54      -4.223  -1.982  -6.952  1.00  0.94           C  \\nATOM    410  C   MET A  54      -4.080  -2.726  -5.629  1.00  0.94           C  \\nATOM    411  CB  MET A  54      -3.273  -0.783  -6.983  1.00  0.94           C  \\nATOM    412  O   MET A  54      -3.035  -3.321  -5.356  1.00  0.94           O  \\nATOM    413  CG  MET A  54      -3.224  -0.074  -8.327  1.00  0.94           C  \\nATOM    414  SD  MET A  54      -2.193   1.443  -8.285  1.00  0.94           S  \\nATOM    415  CE  MET A  54      -0.566   0.715  -7.950  1.00  0.94           C  \\nATOM    416  N   VAL A  55      -5.125  -2.700  -4.843  1.00  0.95           N  \\nATOM    417  CA  VAL A  55      -4.967  -3.268  -3.509  1.00  0.95           C  \\nATOM    418  C   VAL A  55      -6.106  -4.243  -3.223  1.00  0.95           C  \\nATOM    419  CB  VAL A  55      -4.923  -2.167  -2.425  1.00  0.95           C  \\nATOM    420  O   VAL A  55      -7.167  -4.168  -3.848  1.00  0.95           O  \\nATOM    421  CG1 VAL A  55      -3.714  -1.256  -2.629  1.00  0.95           C  \\nATOM    422  CG2 VAL A  55      -6.217  -1.355  -2.439  1.00  0.95           C  \\nATOM    423  N   LYS A  56      -5.796  -5.168  -2.418  1.00  0.95           N  \\nATOM    424  CA  LYS A  56      -6.770  -6.106  -1.867  1.00  0.95           C  \\nATOM    425  C   LYS A  56      -7.000  -5.850  -0.381  1.00  0.95           C  \\nATOM    426  CB  LYS A  56      -6.310  -7.548  -2.086  1.00  0.95           C  \\nATOM    427  O   LYS A  56      -6.046  -5.786   0.398  1.00  0.95           O  \\nATOM    428  CG  LYS A  56      -7.315  -8.594  -1.626  1.00  0.95           C  \\nATOM    429  CD  LYS A  56      -6.837 -10.006  -1.943  1.00  0.95           C  \\nATOM    430  CE  LYS A  56      -7.844 -11.053  -1.488  1.00  0.95           C  \\nATOM    431  NZ  LYS A  56      -7.390 -12.438  -1.817  1.00  0.95           N  \\nATOM    432  N   VAL A  57      -8.240  -5.628  -0.050  1.00  0.94           N  \\nATOM    433  CA  VAL A  57      -8.594  -5.301   1.327  1.00  0.94           C  \\nATOM    434  C   VAL A  57      -9.315  -6.484   1.970  1.00  0.94           C  \\nATOM    435  CB  VAL A  57      -9.475  -4.034   1.402  1.00  0.94           C  \\nATOM    436  O   VAL A  57     -10.260  -7.030   1.395  1.00  0.94           O  \\nATOM    437  CG1 VAL A  57      -9.821  -3.701   2.852  1.00  0.94           C  \\nATOM    438  CG2 VAL A  57      -8.771  -2.856   0.732  1.00  0.94           C  \\nATOM    439  N   GLU A  58      -8.830  -6.908   3.113  1.00  0.93           N  \\nATOM    440  CA  GLU A  58      -9.434  -7.955   3.932  1.00  0.93           C  \\nATOM    441  C   GLU A  58      -9.802  -7.429   5.316  1.00  0.93           C  \\nATOM    442  CB  GLU A  58      -8.487  -9.151   4.059  1.00  0.93           C  \\nATOM    443  O   GLU A  58      -8.978  -6.806   5.989  1.00  0.93           O  \\nATOM    444  CG  GLU A  58      -8.198  -9.850   2.738  1.00  0.93           C  \\nATOM    445  CD  GLU A  58      -7.317 -11.079   2.889  1.00  0.93           C  \\nATOM    446  OE1 GLU A  58      -7.132 -11.820   1.897  1.00  0.93           O  \\nATOM    447  OE2 GLU A  58      -6.808 -11.305   4.010  1.00  0.93           O  \\nATOM    448  N   GLU A  59     -11.130  -7.530   5.747  1.00  0.87           N  \\nATOM    449  CA  GLU A  59     -11.564  -7.099   7.072  1.00  0.87           C  \\nATOM    450  C   GLU A  59     -11.191  -8.127   8.137  1.00  0.87           C  \\nATOM    451  CB  GLU A  59     -13.075  -6.849   7.088  1.00  0.87           C  \\nATOM    452  O   GLU A  59     -11.210  -9.332   7.877  1.00  0.87           O  \\nATOM    453  CG  GLU A  59     -13.527  -5.755   6.133  1.00  0.87           C  \\nATOM    454  CD  GLU A  59     -15.034  -5.551   6.125  1.00  0.87           C  \\nATOM    455  OE1 GLU A  59     -15.528  -4.709   5.340  1.00  0.87           O  \\nATOM    456  OE2 GLU A  59     -15.725  -6.236   6.911  1.00  0.87           O  \\n\",\"pdb\");\n\tviewer_16268281296228747.setStyle({\"cartoon\": {\"colorscheme\": {\"prop\": \"b\", \"gradient\": \"roygb\", \"min\": 0, \"max\": 1}}});\n\tviewer_16268281296228747.zoomTo();\nviewer_16268281296228747.render();\n});\n</script>",
                "text/html": "<div id=\"3dmolviewer_16268281296228747\"  style=\"position: relative; width: 640px; height: 480px\">\n        <p id=\"3dmolwarning_16268281296228747\" style=\"background-color:#ffcccc;color:black\">You appear to be running in JupyterLab (or JavaScript failed to load for some other reason).  You need to install the 3dmol extension: <br>\n        <tt>jupyter labextension install jupyterlab_3dmol</tt></p>\n        </div>\n<script>\n\nvar loadScriptAsync = function(uri){\n  return new Promise((resolve, reject) => {\n    var tag = document.createElement('script');\n    tag.src = uri;\n    tag.async = true;\n    tag.onload = () => {\n      resolve();\n    };\n  var firstScriptTag = document.getElementsByTagName('script')[0];\n  firstScriptTag.parentNode.insertBefore(tag, firstScriptTag);\n});\n};\n\nif(typeof $3Dmolpromise === 'undefined') {\n$3Dmolpromise = null;\n  $3Dmolpromise = loadScriptAsync('https://3dmol.org/build/3Dmol.js');\n}\n\nvar viewer_16268281296228747 = null;\nvar warn = document.getElementById(\"3dmolwarning_16268281296228747\");\nif(warn) {\n    warn.parentNode.removeChild(warn);\n}\n$3Dmolpromise.then(function() {\nviewer_16268281296228747 = $3Dmol.createViewer($(\"#3dmolviewer_16268281296228747\"),{backgroundColor:\"white\"});\nviewer_16268281296228747.zoomTo();\n\tviewer_16268281296228747.addModel(\"ATOM      1  N   MET A   1     -13.806  -1.997  19.716  1.00  0.52           N  \\nATOM      2  CA  MET A   1     -12.745  -2.790  19.102  1.00  0.52           C  \\nATOM      3  C   MET A   1     -12.424  -2.277  17.702  1.00  0.52           C  \\nATOM      4  CB  MET A   1     -13.142  -4.266  19.040  1.00  0.52           C  \\nATOM      5  O   MET A   1     -13.330  -2.023  16.907  1.00  0.52           O  \\nATOM      6  CG  MET A   1     -13.278  -4.922  20.404  1.00  0.52           C  \\nATOM      7  SD  MET A   1     -13.091  -6.746  20.329  1.00  0.52           S  \\nATOM      8  CE  MET A   1     -13.204  -7.152  22.094  1.00  0.52           C  \\nATOM      9  N   ALA A   2     -11.505  -1.405  17.564  1.00  0.69           N  \\nATOM     10  CA  ALA A   2     -11.116  -0.746  16.321  1.00  0.69           C  \\nATOM     11  C   ALA A   2     -10.915  -1.763  15.201  1.00  0.69           C  \\nATOM     12  CB  ALA A   2      -9.843   0.072  16.527  1.00  0.69           C  \\nATOM     13  O   ALA A   2     -10.271  -2.796  15.400  1.00  0.69           O  \\nATOM     14  N   LYS A   3     -11.831  -1.860  14.378  1.00  0.88           N  \\nATOM     15  CA  LYS A   3     -11.801  -2.729  13.205  1.00  0.88           C  \\nATOM     16  C   LYS A   3     -10.572  -2.450  12.345  1.00  0.88           C  \\nATOM     17  CB  LYS A   3     -13.073  -2.554  12.375  1.00  0.88           C  \\nATOM     18  O   LYS A   3     -10.211  -1.291  12.127  1.00  0.88           O  \\nATOM     19  CG  LYS A   3     -13.331  -3.686  11.391  1.00  0.88           C  \\nATOM     20  CD  LYS A   3     -14.695  -3.549  10.727  1.00  0.88           C  \\nATOM     21  CE  LYS A   3     -14.935  -4.656   9.709  1.00  0.88           C  \\nATOM     22  NZ  LYS A   3     -16.277  -4.535   9.065  1.00  0.88           N  \\nATOM     23  N   THR A   4      -9.712  -3.434  12.323  1.00  0.91           N  \\nATOM     24  CA  THR A   4      -8.514  -3.325  11.497  1.00  0.91           C  \\nATOM     25  C   THR A   4      -8.745  -3.951  10.125  1.00  0.91           C  \\nATOM     26  CB  THR A   4      -7.306  -3.998  12.175  1.00  0.91           C  \\nATOM     27  O   THR A   4      -9.560  -4.865   9.983  1.00  0.91           O  \\nATOM     28  CG2 THR A   4      -6.932  -3.283  13.469  1.00  0.91           C  \\nATOM     29  OG1 THR A   4      -7.630  -5.362  12.472  1.00  0.91           O  \\nATOM     30  N   ILE A   5      -8.176  -3.277   9.101  1.00  0.93           N  \\nATOM     31  CA  ILE A   5      -8.267  -3.781   7.735  1.00  0.93           C  \\nATOM     32  C   ILE A   5      -6.874  -4.143   7.225  1.00  0.93           C  \\nATOM     33  CB  ILE A   5      -8.931  -2.751   6.796  1.00  0.93           C  \\nATOM     34  O   ILE A   5      -5.893  -3.469   7.550  1.00  0.93           O  \\nATOM     35  CG1 ILE A   5      -8.187  -1.412   6.860  1.00  0.93           C  \\nATOM     36  CG2 ILE A   5     -10.411  -2.572   7.149  1.00  0.93           C  \\nATOM     37  CD1 ILE A   5      -8.680  -0.381   5.854  1.00  0.93           C  \\nATOM     38  N   LYS A   6      -6.898  -5.323   6.664  1.00  0.95           N  \\nATOM     39  CA  LYS A   6      -5.666  -5.786   6.033  1.00  0.95           C  \\nATOM     40  C   LYS A   6      -5.620  -5.391   4.560  1.00  0.95           C  \\nATOM     41  CB  LYS A   6      -5.528  -7.303   6.173  1.00  0.95           C  \\nATOM     42  O   LYS A   6      -6.518  -5.739   3.790  1.00  0.95           O  \\nATOM     43  CG  LYS A   6      -4.136  -7.830   5.857  1.00  0.95           C  \\nATOM     44  CD  LYS A   6      -4.021  -9.319   6.157  1.00  0.95           C  \\nATOM     45  CE  LYS A   6      -2.640  -9.855   5.806  1.00  0.95           C  \\nATOM     46  NZ  LYS A   6      -2.509 -11.306   6.135  1.00  0.95           N  \\nATOM     47  N   ILE A   7      -4.537  -4.671   4.215  1.00  0.95           N  \\nATOM     48  CA  ILE A   7      -4.397  -4.168   2.853  1.00  0.95           C  \\nATOM     49  C   ILE A   7      -3.185  -4.815   2.186  1.00  0.95           C  \\nATOM     50  CB  ILE A   7      -4.263  -2.629   2.829  1.00  0.95           C  \\nATOM     51  O   ILE A   7      -2.079  -4.785   2.731  1.00  0.95           O  \\nATOM     52  CG1 ILE A   7      -5.407  -1.982   3.617  1.00  0.95           C  \\nATOM     53  CG2 ILE A   7      -4.230  -2.112   1.388  1.00  0.95           C  \\nATOM     54  CD1 ILE A   7      -5.144  -0.536   4.015  1.00  0.95           C  \\nATOM     55  N   THR A   8      -3.387  -5.377   1.022  1.00  0.96           N  \\nATOM     56  CA  THR A   8      -2.324  -6.015   0.252  1.00  0.96           C  \\nATOM     57  C   THR A   8      -2.216  -5.393  -1.137  1.00  0.96           C  \\nATOM     58  CB  THR A   8      -2.560  -7.531   0.122  1.00  0.96           C  \\nATOM     59  O   THR A   8      -3.227  -5.186  -1.811  1.00  0.96           O  \\nATOM     60  CG2 THR A   8      -1.372  -8.217  -0.543  1.00  0.96           C  \\nATOM     61  OG1 THR A   8      -2.754  -8.092   1.426  1.00  0.96           O  \\nATOM     62  N   GLN A   9      -1.038  -5.077  -1.469  1.00  0.96           N  \\nATOM     63  CA  GLN A   9      -0.803  -4.572  -2.818  1.00  0.96           C  \\nATOM     64  C   GLN A   9      -0.762  -5.710  -3.833  1.00  0.96           C  \\nATOM     65  CB  GLN A   9       0.500  -3.772  -2.872  1.00  0.96           C  \\nATOM     66  O   GLN A   9       0.076  -6.609  -3.731  1.00  0.96           O  \\nATOM     67  CG  GLN A   9       0.764  -3.118  -4.221  1.00  0.96           C  \\nATOM     68  CD  GLN A   9       2.068  -2.342  -4.252  1.00  0.96           C  \\nATOM     69  NE2 GLN A   9       2.162  -1.377  -5.160  1.00  0.96           N  \\nATOM     70  OE1 GLN A   9       2.983  -2.608  -3.466  1.00  0.96           O  \\nATOM     71  N   THR A  10      -1.580  -5.690  -4.775  1.00  0.96           N  \\nATOM     72  CA  THR A  10      -1.696  -6.784  -5.732  1.00  0.96           C  \\nATOM     73  C   THR A  10      -1.107  -6.386  -7.082  1.00  0.96           C  \\nATOM     74  CB  THR A  10      -3.163  -7.214  -5.916  1.00  0.96           C  \\nATOM     75  O   THR A  10      -0.619  -7.238  -7.828  1.00  0.96           O  \\nATOM     76  CG2 THR A  10      -3.727  -7.809  -4.630  1.00  0.96           C  \\nATOM     77  OG1 THR A  10      -3.946  -6.072  -6.284  1.00  0.96           O  \\nATOM     78  N   ARG A  11      -1.034  -5.114  -7.310  1.00  0.94           N  \\nATOM     79  CA  ARG A  11      -0.529  -4.626  -8.589  1.00  0.94           C  \\nATOM     80  C   ARG A  11       0.649  -3.680  -8.388  1.00  0.94           C  \\nATOM     81  CB  ARG A  11      -1.639  -3.922  -9.372  1.00  0.94           C  \\nATOM     82  O   ARG A  11       0.815  -3.106  -7.310  1.00  0.94           O  \\nATOM     83  CG  ARG A  11      -2.768  -4.844  -9.806  1.00  0.94           C  \\nATOM     84  CD  ARG A  11      -3.715  -4.157 -10.780  1.00  0.94           C  \\nATOM     85  NE  ARG A  11      -4.760  -5.064 -11.246  1.00  0.94           N  \\nATOM     86  NH1 ARG A  11      -5.827  -3.491 -12.560  1.00  0.94           N  \\nATOM     87  NH2 ARG A  11      -6.637  -5.632 -12.441  1.00  0.94           N  \\nATOM     88  CZ  ARG A  11      -5.739  -4.727 -12.081  1.00  0.94           C  \\nATOM     89  N   SER A  12       1.477  -3.583  -9.425  1.00  0.94           N  \\nATOM     90  CA  SER A  12       2.681  -2.760  -9.370  1.00  0.94           C  \\nATOM     91  C   SER A  12       2.342  -1.277  -9.475  1.00  0.94           C  \\nATOM     92  CB  SER A  12       3.649  -3.151 -10.487  1.00  0.94           C  \\nATOM     93  O   SER A  12       1.341  -0.906 -10.092  1.00  0.94           O  \\nATOM     94  OG  SER A  12       4.783  -2.301 -10.489  1.00  0.94           O  \\nATOM     95  N   ALA A  13       3.189  -0.436  -8.791  1.00  0.92           N  \\nATOM     96  CA  ALA A  13       3.035   1.016  -8.839  1.00  0.92           C  \\nATOM     97  C   ALA A  13       3.701   1.597 -10.083  1.00  0.92           C  \\nATOM     98  CB  ALA A  13       3.618   1.655  -7.580  1.00  0.92           C  \\nATOM     99  O   ALA A  13       3.557   2.787 -10.374  1.00  0.92           O  \\nATOM    100  N   ILE A  14       4.368   0.784 -10.897  1.00  0.93           N  \\nATOM    101  CA  ILE A  14       5.105   1.272 -12.057  1.00  0.93           C  \\nATOM    102  C   ILE A  14       4.126   1.749 -13.128  1.00  0.93           C  \\nATOM    103  CB  ILE A  14       6.040   0.185 -12.632  1.00  0.93           C  \\nATOM    104  O   ILE A  14       3.169   1.044 -13.461  1.00  0.93           O  \\nATOM    105  CG1 ILE A  14       7.094  -0.217 -11.594  1.00  0.93           C  \\nATOM    106  CG2 ILE A  14       6.703   0.671 -13.925  1.00  0.93           C  \\nATOM    107  CD1 ILE A  14       7.907  -1.445 -11.979  1.00  0.93           C  \\nATOM    108  N   GLY A  15       4.265   3.040 -13.616  1.00  0.93           N  \\nATOM    109  CA  GLY A  15       3.457   3.593 -14.691  1.00  0.93           C  \\nATOM    110  C   GLY A  15       2.140   4.173 -14.211  1.00  0.93           C  \\nATOM    111  O   GLY A  15       1.241   4.433 -15.013  1.00  0.93           O  \\nATOM    112  N   ARG A  16       2.012   4.245 -12.832  1.00  0.93           N  \\nATOM    113  CA  ARG A  16       0.771   4.796 -12.298  1.00  0.93           C  \\nATOM    114  C   ARG A  16       0.915   6.286 -12.006  1.00  0.93           C  \\nATOM    115  CB  ARG A  16       0.353   4.051 -11.028  1.00  0.93           C  \\nATOM    116  O   ARG A  16       2.029   6.815 -11.982  1.00  0.93           O  \\nATOM    117  CG  ARG A  16       0.068   2.574 -11.247  1.00  0.93           C  \\nATOM    118  CD  ARG A  16      -1.091   2.361 -12.211  1.00  0.93           C  \\nATOM    119  NE  ARG A  16      -1.356   0.941 -12.430  1.00  0.93           N  \\nATOM    120  NH1 ARG A  16      -3.077   1.282 -13.933  1.00  0.93           N  \\nATOM    121  NH2 ARG A  16      -2.447  -0.849 -13.367  1.00  0.93           N  \\nATOM    122  CZ  ARG A  16      -2.292   0.461 -13.243  1.00  0.93           C  \\nATOM    123  N   LEU A  17      -0.155   6.903 -11.881  1.00  0.95           N  \\nATOM    124  CA  LEU A  17      -0.167   8.328 -11.570  1.00  0.95           C  \\nATOM    125  C   LEU A  17       0.584   8.608 -10.273  1.00  0.95           C  \\nATOM    126  CB  LEU A  17      -1.605   8.842 -11.462  1.00  0.95           C  \\nATOM    127  O   LEU A  17       0.590   7.776  -9.362  1.00  0.95           O  \\nATOM    128  CG  LEU A  17      -2.446   8.776 -12.738  1.00  0.95           C  \\nATOM    129  CD1 LEU A  17      -3.903   9.107 -12.430  1.00  0.95           C  \\nATOM    130  CD2 LEU A  17      -1.889   9.723 -13.795  1.00  0.95           C  \\nATOM    131  N   PRO A  18       1.281   9.724 -10.185  1.00  0.95           N  \\nATOM    132  CA  PRO A  18       2.020  10.090  -8.975  1.00  0.95           C  \\nATOM    133  C   PRO A  18       1.141  10.097  -7.726  1.00  0.95           C  \\nATOM    134  CB  PRO A  18       2.535  11.497  -9.288  1.00  0.95           C  \\nATOM    135  O   PRO A  18       1.602   9.740  -6.639  1.00  0.95           O  \\nATOM    136  CG  PRO A  18       2.594  11.559 -10.780  1.00  0.95           C  \\nATOM    137  CD  PRO A  18       1.498  10.698 -11.337  1.00  0.95           C  \\nATOM    138  N   LYS A  19      -0.107  10.408  -7.903  1.00  0.95           N  \\nATOM    139  CA  LYS A  19      -1.029  10.452  -6.771  1.00  0.95           C  \\nATOM    140  C   LYS A  19      -1.287   9.054  -6.218  1.00  0.95           C  \\nATOM    141  CB  LYS A  19      -2.349  11.106  -7.180  1.00  0.95           C  \\nATOM    142  O   LYS A  19      -1.356   8.865  -5.002  1.00  0.95           O  \\nATOM    143  CG  LYS A  19      -2.246  12.603  -7.436  1.00  0.95           C  \\nATOM    144  CD  LYS A  19      -3.610  13.217  -7.721  1.00  0.95           C  \\nATOM    145  CE  LYS A  19      -3.510  14.717  -7.964  1.00  0.95           C  \\nATOM    146  NZ  LYS A  19      -4.849  15.327  -8.219  1.00  0.95           N  \\nATOM    147  N   HIS A  20      -1.357   8.107  -7.073  1.00  0.94           N  \\nATOM    148  CA  HIS A  20      -1.584   6.728  -6.655  1.00  0.94           C  \\nATOM    149  C   HIS A  20      -0.361   6.160  -5.942  1.00  0.94           C  \\nATOM    150  CB  HIS A  20      -1.942   5.855  -7.859  1.00  0.94           C  \\nATOM    151  O   HIS A  20      -0.494   5.461  -4.935  1.00  0.94           O  \\nATOM    152  CG  HIS A  20      -3.262   6.196  -8.475  1.00  0.94           C  \\nATOM    153  CD2 HIS A  20      -3.664   6.201  -9.768  1.00  0.94           C  \\nATOM    154  ND1 HIS A  20      -4.351   6.593  -7.730  1.00  0.94           N  \\nATOM    155  CE1 HIS A  20      -5.369   6.827  -8.541  1.00  0.94           C  \\nATOM    156  NE2 HIS A  20      -4.979   6.597  -9.783  1.00  0.94           N  \\nATOM    157  N   LYS A  21       0.718   6.548  -6.478  1.00  0.94           N  \\nATOM    158  CA  LYS A  21       1.960   6.109  -5.848  1.00  0.94           C  \\nATOM    159  C   LYS A  21       2.088   6.671  -4.435  1.00  0.94           C  \\nATOM    160  CB  LYS A  21       3.167   6.528  -6.689  1.00  0.94           C  \\nATOM    161  O   LYS A  21       2.481   5.956  -3.510  1.00  0.94           O  \\nATOM    162  CG  LYS A  21       3.282   5.793  -8.016  1.00  0.94           C  \\nATOM    163  CD  LYS A  21       4.523   6.222  -8.788  1.00  0.94           C  \\nATOM    164  CE  LYS A  21       4.603   5.538 -10.146  1.00  0.94           C  \\nATOM    165  NZ  LYS A  21       5.828   5.942 -10.898  1.00  0.94           N  \\nATOM    166  N   ALA A  22       1.691   7.892  -4.311  1.00  0.95           N  \\nATOM    167  CA  ALA A  22       1.760   8.553  -3.010  1.00  0.95           C  \\nATOM    168  C   ALA A  22       0.815   7.894  -2.009  1.00  0.95           C  \\nATOM    169  CB  ALA A  22       1.431  10.037  -3.150  1.00  0.95           C  \\nATOM    170  O   ALA A  22       1.163   7.722  -0.838  1.00  0.95           O  \\nATOM    171  N   THR A  23      -0.354   7.484  -2.572  1.00  0.96           N  \\nATOM    172  CA  THR A  23      -1.333   6.831  -1.711  1.00  0.96           C  \\nATOM    173  C   THR A  23      -0.811   5.482  -1.225  1.00  0.96           C  \\nATOM    174  CB  THR A  23      -2.675   6.632  -2.440  1.00  0.96           C  \\nATOM    175  O   THR A  23      -0.949   5.144  -0.047  1.00  0.96           O  \\nATOM    176  CG2 THR A  23      -3.722   6.029  -1.510  1.00  0.96           C  \\nATOM    177  OG1 THR A  23      -3.146   7.899  -2.915  1.00  0.96           O  \\nATOM    178  N   LEU A  24      -0.212   4.722  -2.124  1.00  0.95           N  \\nATOM    179  CA  LEU A  24       0.360   3.432  -1.756  1.00  0.95           C  \\nATOM    180  C   LEU A  24       1.434   3.599  -0.686  1.00  0.95           C  \\nATOM    181  CB  LEU A  24       0.951   2.738  -2.986  1.00  0.95           C  \\nATOM    182  O   LEU A  24       1.459   2.855   0.296  1.00  0.95           O  \\nATOM    183  CG  LEU A  24      -0.051   2.210  -4.013  1.00  0.95           C  \\nATOM    184  CD1 LEU A  24       0.682   1.619  -5.213  1.00  0.95           C  \\nATOM    185  CD2 LEU A  24      -0.972   1.173  -3.379  1.00  0.95           C  \\nATOM    186  N   LEU A  25       2.258   4.636  -0.869  1.00  0.94           N  \\nATOM    187  CA  LEU A  25       3.297   4.926   0.113  1.00  0.94           C  \\nATOM    188  C   LEU A  25       2.684   5.363   1.439  1.00  0.94           C  \\nATOM    189  CB  LEU A  25       4.239   6.014  -0.410  1.00  0.94           C  \\nATOM    190  O   LEU A  25       3.153   4.960   2.507  1.00  0.94           O  \\nATOM    191  CG  LEU A  25       5.199   5.600  -1.527  1.00  0.94           C  \\nATOM    192  CD1 LEU A  25       5.890   6.826  -2.113  1.00  0.94           C  \\nATOM    193  CD2 LEU A  25       6.225   4.599  -1.006  1.00  0.94           C  \\nATOM    194  N   GLY A  26       1.611   6.224   1.336  1.00  0.94           N  \\nATOM    195  CA  GLY A  26       0.895   6.676   2.518  1.00  0.94           C  \\nATOM    196  C   GLY A  26       0.284   5.540   3.317  1.00  0.94           C  \\nATOM    197  O   GLY A  26       0.257   5.586   4.549  1.00  0.94           O  \\nATOM    198  N   LEU A  27      -0.140   4.491   2.557  1.00  0.94           N  \\nATOM    199  CA  LEU A  27      -0.719   3.330   3.224  1.00  0.94           C  \\nATOM    200  C   LEU A  27       0.373   2.426   3.786  1.00  0.94           C  \\nATOM    201  CB  LEU A  27      -1.603   2.540   2.255  1.00  0.94           C  \\nATOM    202  O   LEU A  27       0.111   1.602   4.666  1.00  0.94           O  \\nATOM    203  CG  LEU A  27      -2.948   3.173   1.894  1.00  0.94           C  \\nATOM    204  CD1 LEU A  27      -3.582   2.437   0.719  1.00  0.94           C  \\nATOM    205  CD2 LEU A  27      -3.881   3.171   3.100  1.00  0.94           C  \\nATOM    206  N   GLY A  28       1.603   2.643   3.346  1.00  0.94           N  \\nATOM    207  CA  GLY A  28       2.746   1.876   3.814  1.00  0.94           C  \\nATOM    208  C   GLY A  28       3.059   0.677   2.939  1.00  0.94           C  \\nATOM    209  O   GLY A  28       3.717  -0.267   3.381  1.00  0.94           O  \\nATOM    210  N   LEU A  29       2.520   0.715   1.741  1.00  0.94           N  \\nATOM    211  CA  LEU A  29       2.761  -0.375   0.802  1.00  0.94           C  \\nATOM    212  C   LEU A  29       3.967  -0.075  -0.082  1.00  0.94           C  \\nATOM    213  CB  LEU A  29       1.524  -0.617  -0.067  1.00  0.94           C  \\nATOM    214  O   LEU A  29       4.033   0.984  -0.710  1.00  0.94           O  \\nATOM    215  CG  LEU A  29       0.260  -1.073   0.664  1.00  0.94           C  \\nATOM    216  CD1 LEU A  29      -0.956  -0.941  -0.246  1.00  0.94           C  \\nATOM    217  CD2 LEU A  29       0.414  -2.508   1.155  1.00  0.94           C  \\nATOM    218  N   ARG A  30       4.964  -1.050  -0.176  1.00  0.92           N  \\nATOM    219  CA  ARG A  30       6.232  -0.767  -0.840  1.00  0.92           C  \\nATOM    220  C   ARG A  30       6.433  -1.677  -2.047  1.00  0.92           C  \\nATOM    221  CB  ARG A  30       7.398  -0.928   0.138  1.00  0.92           C  \\nATOM    222  O   ARG A  30       7.001  -1.260  -3.058  1.00  0.92           O  \\nATOM    223  CG  ARG A  30       7.402   0.092   1.265  1.00  0.92           C  \\nATOM    224  CD  ARG A  30       8.613  -0.075   2.173  1.00  0.92           C  \\nATOM    225  NE  ARG A  30       8.661   0.959   3.203  1.00  0.92           N  \\nATOM    226  NH1 ARG A  30      10.597   0.175   4.191  1.00  0.92           N  \\nATOM    227  NH2 ARG A  30       9.550   2.035   5.027  1.00  0.92           N  \\nATOM    228  CZ  ARG A  30       9.602   1.054   4.138  1.00  0.92           C  \\nATOM    229  N   ARG A  31       5.951  -2.952  -1.912  1.00  0.92           N  \\nATOM    230  CA  ARG A  31       6.145  -3.923  -2.984  1.00  0.92           C  \\nATOM    231  C   ARG A  31       4.881  -4.746  -3.213  1.00  0.92           C  \\nATOM    232  CB  ARG A  31       7.321  -4.848  -2.666  1.00  0.92           C  \\nATOM    233  O   ARG A  31       3.964  -4.727  -2.389  1.00  0.92           O  \\nATOM    234  CG  ARG A  31       7.153  -5.639  -1.378  1.00  0.92           C  \\nATOM    235  CD  ARG A  31       8.407  -6.429  -1.033  1.00  0.92           C  \\nATOM    236  NE  ARG A  31       8.261  -7.147   0.230  1.00  0.92           N  \\nATOM    237  NH1 ARG A  31      10.356  -8.120   0.157  1.00  0.92           N  \\nATOM    238  NH2 ARG A  31       8.953  -8.540   1.920  1.00  0.92           N  \\nATOM    239  CZ  ARG A  31       9.190  -7.934   0.766  1.00  0.92           C  \\nATOM    240  N   ILE A  32       4.831  -5.369  -4.403  1.00  0.95           N  \\nATOM    241  CA  ILE A  32       3.709  -6.245  -4.727  1.00  0.95           C  \\nATOM    242  C   ILE A  32       3.678  -7.423  -3.756  1.00  0.95           C  \\nATOM    243  CB  ILE A  32       3.791  -6.753  -6.184  1.00  0.95           C  \\nATOM    244  O   ILE A  32       4.704  -8.065  -3.516  1.00  0.95           O  \\nATOM    245  CG1 ILE A  32       3.638  -5.586  -7.165  1.00  0.95           C  \\nATOM    246  CG2 ILE A  32       2.730  -7.828  -6.441  1.00  0.95           C  \\nATOM    247  CD1 ILE A  32       3.796  -5.982  -8.627  1.00  0.95           C  \\nATOM    248  N   GLY A  33       2.509  -7.646  -3.050  1.00  0.94           N  \\nATOM    249  CA  GLY A  33       2.311  -8.712  -2.080  1.00  0.94           C  \\nATOM    250  C   GLY A  33       2.520  -8.261  -0.647  1.00  0.94           C  \\nATOM    251  O   GLY A  33       2.349  -9.047   0.287  1.00  0.94           O  \\nATOM    252  N   HIS A  34       2.974  -7.053  -0.459  1.00  0.95           N  \\nATOM    253  CA  HIS A  34       3.175  -6.495   0.873  1.00  0.95           C  \\nATOM    254  C   HIS A  34       1.843  -6.192   1.551  1.00  0.95           C  \\nATOM    255  CB  HIS A  34       4.027  -5.227   0.800  1.00  0.95           C  \\nATOM    256  O   HIS A  34       0.970  -5.556   0.956  1.00  0.95           O  \\nATOM    257  CG  HIS A  34       4.478  -4.729   2.136  1.00  0.95           C  \\nATOM    258  CD2 HIS A  34       4.909  -5.394   3.233  1.00  0.95           C  \\nATOM    259  ND1 HIS A  34       4.515  -3.389   2.457  1.00  0.95           N  \\nATOM    260  CE1 HIS A  34       4.951  -3.252   3.698  1.00  0.95           C  \\nATOM    261  NE2 HIS A  34       5.197  -4.454   4.191  1.00  0.95           N  \\nATOM    262  N   THR A  35       1.727  -6.655   2.730  1.00  0.95           N  \\nATOM    263  CA  THR A  35       0.485  -6.487   3.477  1.00  0.95           C  \\nATOM    264  C   THR A  35       0.703  -5.591   4.693  1.00  0.95           C  \\nATOM    265  CB  THR A  35      -0.081  -7.845   3.932  1.00  0.95           C  \\nATOM    266  O   THR A  35       1.716  -5.710   5.385  1.00  0.95           O  \\nATOM    267  CG2 THR A  35      -1.458  -7.682   4.567  1.00  0.95           C  \\nATOM    268  OG1 THR A  35      -0.191  -8.714   2.798  1.00  0.95           O  \\nATOM    269  N   VAL A  36      -0.250  -4.667   4.886  1.00  0.95           N  \\nATOM    270  CA  VAL A  36      -0.199  -3.766   6.033  1.00  0.95           C  \\nATOM    271  C   VAL A  36      -1.556  -3.746   6.734  1.00  0.95           C  \\nATOM    272  CB  VAL A  36       0.206  -2.335   5.613  1.00  0.95           C  \\nATOM    273  O   VAL A  36      -2.598  -3.884   6.089  1.00  0.95           O  \\nATOM    274  CG1 VAL A  36       0.146  -1.385   6.808  1.00  0.95           C  \\nATOM    275  CG2 VAL A  36       1.603  -2.336   4.997  1.00  0.95           C  \\nATOM    276  N   GLU A  37      -1.512  -3.734   8.079  1.00  0.94           N  \\nATOM    277  CA  GLU A  37      -2.723  -3.627   8.887  1.00  0.94           C  \\nATOM    278  C   GLU A  37      -2.923  -2.202   9.396  1.00  0.94           C  \\nATOM    279  CB  GLU A  37      -2.672  -4.603  10.065  1.00  0.94           C  \\nATOM    280  O   GLU A  37      -2.021  -1.621  10.003  1.00  0.94           O  \\nATOM    281  CG  GLU A  37      -2.634  -6.067   9.649  1.00  0.94           C  \\nATOM    282  CD  GLU A  37      -2.673  -7.027  10.827  1.00  0.94           C  \\nATOM    283  OE1 GLU A  37      -2.703  -8.259  10.606  1.00  0.94           O  \\nATOM    284  OE2 GLU A  37      -2.676  -6.543  11.981  1.00  0.94           O  \\nATOM    285  N   ARG A  38      -4.133  -1.681   9.058  1.00  0.92           N  \\nATOM    286  CA  ARG A  38      -4.459  -0.321   9.476  1.00  0.92           C  \\nATOM    287  C   ARG A  38      -5.843  -0.261  10.115  1.00  0.92           C  \\nATOM    288  CB  ARG A  38      -4.389   0.639   8.287  1.00  0.92           C  \\nATOM    289  O   ARG A  38      -6.665  -1.157   9.913  1.00  0.92           O  \\nATOM    290  CG  ARG A  38      -2.999   0.778   7.688  1.00  0.92           C  \\nATOM    291  CD  ARG A  38      -2.072   1.576   8.594  1.00  0.92           C  \\nATOM    292  NE  ARG A  38      -0.792   1.853   7.946  1.00  0.92           N  \\nATOM    293  NH1 ARG A  38      -0.598   3.998   8.783  1.00  0.92           N  \\nATOM    294  NH2 ARG A  38       1.034   3.142   7.419  1.00  0.92           N  \\nATOM    295  CZ  ARG A  38      -0.122   2.997   8.051  1.00  0.92           C  \\nATOM    296  N   GLU A  39      -6.038   0.732  10.908  1.00  0.92           N  \\nATOM    297  CA  GLU A  39      -7.337   0.972  11.530  1.00  0.92           C  \\nATOM    298  C   GLU A  39      -8.370   1.413  10.497  1.00  0.92           C  \\nATOM    299  CB  GLU A  39      -7.218   2.023  12.637  1.00  0.92           C  \\nATOM    300  O   GLU A  39      -8.059   2.193   9.594  1.00  0.92           O  \\nATOM    301  CG  GLU A  39      -6.413   1.558  13.842  1.00  0.92           C  \\nATOM    302  CD  GLU A  39      -6.377   2.578  14.969  1.00  0.92           C  \\nATOM    303  OE1 GLU A  39      -5.852   2.259  16.060  1.00  0.92           O  \\nATOM    304  OE2 GLU A  39      -6.877   3.705  14.759  1.00  0.92           O  \\nATOM    305  N   ASP A  40      -9.556   0.849  10.657  1.00  0.92           N  \\nATOM    306  CA  ASP A  40     -10.616   1.180   9.709  1.00  0.92           C  \\nATOM    307  C   ASP A  40     -11.193   2.565   9.993  1.00  0.92           C  \\nATOM    308  CB  ASP A  40     -11.726   0.128   9.756  1.00  0.92           C  \\nATOM    309  O   ASP A  40     -12.176   2.696  10.725  1.00  0.92           O  \\nATOM    310  CG  ASP A  40     -12.729   0.274   8.625  1.00  0.92           C  \\nATOM    311  OD1 ASP A  40     -12.474   1.052   7.680  1.00  0.92           O  \\nATOM    312  OD2 ASP A  40     -13.784  -0.394   8.679  1.00  0.92           O  \\nATOM    313  N   THR A  41     -10.485   3.610   9.533  1.00  0.93           N  \\nATOM    314  CA  THR A  41     -10.951   4.991   9.610  1.00  0.93           C  \\nATOM    315  C   THR A  41     -11.446   5.471   8.249  1.00  0.93           C  \\nATOM    316  CB  THR A  41      -9.838   5.928  10.115  1.00  0.93           C  \\nATOM    317  O   THR A  41     -11.115   4.881   7.219  1.00  0.93           O  \\nATOM    318  CG2 THR A  41      -9.293   5.460  11.460  1.00  0.93           C  \\nATOM    319  OG1 THR A  41      -8.769   5.949   9.160  1.00  0.93           O  \\nATOM    320  N   PRO A  42     -12.418   6.382   8.211  1.00  0.93           N  \\nATOM    321  CA  PRO A  42     -12.889   6.921   6.933  1.00  0.93           C  \\nATOM    322  C   PRO A  42     -11.755   7.463   6.067  1.00  0.93           C  \\nATOM    323  CB  PRO A  42     -13.840   8.045   7.353  1.00  0.93           C  \\nATOM    324  O   PRO A  42     -11.816   7.376   4.838  1.00  0.93           O  \\nATOM    325  CG  PRO A  42     -14.290   7.670   8.728  1.00  0.93           C  \\nATOM    326  CD  PRO A  42     -13.181   6.916   9.404  1.00  0.93           C  \\nATOM    327  N   ALA A  43     -10.730   7.932   6.686  1.00  0.94           N  \\nATOM    328  CA  ALA A  43      -9.586   8.461   5.948  1.00  0.94           C  \\nATOM    329  C   ALA A  43      -8.859   7.350   5.195  1.00  0.94           C  \\nATOM    330  CB  ALA A  43      -8.625   9.175   6.895  1.00  0.94           C  \\nATOM    331  O   ALA A  43      -8.536   7.501   4.014  1.00  0.94           O  \\nATOM    332  N   ILE A  44      -8.660   6.168   5.872  1.00  0.94           N  \\nATOM    333  CA  ILE A  44      -7.968   5.040   5.259  1.00  0.94           C  \\nATOM    334  C   ILE A  44      -8.830   4.449   4.146  1.00  0.94           C  \\nATOM    335  CB  ILE A  44      -7.620   3.954   6.302  1.00  0.94           C  \\nATOM    336  O   ILE A  44      -8.325   4.118   3.070  1.00  0.94           O  \\nATOM    337  CG1 ILE A  44      -6.597   4.490   7.310  1.00  0.94           C  \\nATOM    338  CG2 ILE A  44      -7.100   2.690   5.612  1.00  0.94           C  \\nATOM    339  CD1 ILE A  44      -5.262   4.880   6.689  1.00  0.94           C  \\nATOM    340  N   ARG A  45     -10.068   4.467   4.364  1.00  0.93           N  \\nATOM    341  CA  ARG A  45     -10.991   3.963   3.352  1.00  0.93           C  \\nATOM    342  C   ARG A  45     -10.964   4.837   2.103  1.00  0.93           C  \\nATOM    343  CB  ARG A  45     -12.414   3.889   3.910  1.00  0.93           C  \\nATOM    344  O   ARG A  45     -11.064   4.331   0.983  1.00  0.93           O  \\nATOM    345  CG  ARG A  45     -12.665   2.683   4.800  1.00  0.93           C  \\nATOM    346  CD  ARG A  45     -14.153   2.409   4.973  1.00  0.93           C  \\nATOM    347  NE  ARG A  45     -14.393   1.287   5.875  1.00  0.93           N  \\nATOM    348  NH1 ARG A  45     -16.622   1.049   5.318  1.00  0.93           N  \\nATOM    349  NH2 ARG A  45     -15.669  -0.344   6.869  1.00  0.93           N  \\nATOM    350  CZ  ARG A  45     -15.561   0.666   6.019  1.00  0.93           C  \\nATOM    351  N   GLY A  46     -10.874   6.161   2.351  1.00  0.95           N  \\nATOM    352  CA  GLY A  46     -10.739   7.073   1.226  1.00  0.95           C  \\nATOM    353  C   GLY A  46      -9.504   6.806   0.387  1.00  0.95           C  \\nATOM    354  O   GLY A  46      -9.574   6.792  -0.844  1.00  0.95           O  \\nATOM    355  N   MET A  47      -8.414   6.532   1.127  1.00  0.95           N  \\nATOM    356  CA  MET A  47      -7.159   6.230   0.446  1.00  0.95           C  \\nATOM    357  C   MET A  47      -7.263   4.922  -0.331  1.00  0.95           C  \\nATOM    358  CB  MET A  47      -6.007   6.152   1.450  1.00  0.95           C  \\nATOM    359  O   MET A  47      -6.801   4.833  -1.470  1.00  0.95           O  \\nATOM    360  CG  MET A  47      -5.626   7.495   2.051  1.00  0.95           C  \\nATOM    361  SD  MET A  47      -4.112   7.400   3.083  1.00  0.95           S  \\nATOM    362  CE  MET A  47      -4.817   6.760   4.627  1.00  0.95           C  \\nATOM    363  N   ILE A  48      -7.873   3.927   0.240  1.00  0.94           N  \\nATOM    364  CA  ILE A  48      -8.043   2.617  -0.379  1.00  0.94           C  \\nATOM    365  C   ILE A  48      -8.906   2.747  -1.632  1.00  0.94           C  \\nATOM    366  CB  ILE A  48      -8.673   1.605   0.604  1.00  0.94           C  \\nATOM    367  O   ILE A  48      -8.588   2.170  -2.675  1.00  0.94           O  \\nATOM    368  CG1 ILE A  48      -7.700   1.293   1.747  1.00  0.94           C  \\nATOM    369  CG2 ILE A  48      -9.085   0.325  -0.130  1.00  0.94           C  \\nATOM    370  CD1 ILE A  48      -8.310   0.465   2.870  1.00  0.94           C  \\nATOM    371  N   ASN A  49      -9.891   3.536  -1.550  1.00  0.95           N  \\nATOM    372  CA  ASN A  49     -10.799   3.730  -2.675  1.00  0.95           C  \\nATOM    373  C   ASN A  49     -10.082   4.339  -3.877  1.00  0.95           C  \\nATOM    374  CB  ASN A  49     -11.984   4.606  -2.264  1.00  0.95           C  \\nATOM    375  O   ASN A  49     -10.363   3.978  -5.021  1.00  0.95           O  \\nATOM    376  CG  ASN A  49     -13.001   3.857  -1.424  1.00  0.95           C  \\nATOM    377  ND2 ASN A  49     -13.764   4.591  -0.624  1.00  0.95           N  \\nATOM    378  OD1 ASN A  49     -13.098   2.630  -1.494  1.00  0.95           O  \\nATOM    379  N   ALA A  50      -9.154   5.176  -3.571  1.00  0.94           N  \\nATOM    380  CA  ALA A  50      -8.392   5.835  -4.628  1.00  0.94           C  \\nATOM    381  C   ALA A  50      -7.522   4.834  -5.383  1.00  0.94           C  \\nATOM    382  CB  ALA A  50      -7.530   6.952  -4.045  1.00  0.94           C  \\nATOM    383  O   ALA A  50      -7.277   4.995  -6.581  1.00  0.94           O  \\nATOM    384  N   VAL A  51      -7.126   3.752  -4.634  1.00  0.95           N  \\nATOM    385  CA  VAL A  51      -6.220   2.785  -5.245  1.00  0.95           C  \\nATOM    386  C   VAL A  51      -6.842   1.391  -5.196  1.00  0.95           C  \\nATOM    387  CB  VAL A  51      -4.841   2.779  -4.548  1.00  0.95           C  \\nATOM    388  O   VAL A  51      -6.129   0.390  -5.094  1.00  0.95           O  \\nATOM    389  CG1 VAL A  51      -4.091   4.081  -4.824  1.00  0.95           C  \\nATOM    390  CG2 VAL A  51      -5.005   2.562  -3.045  1.00  0.95           C  \\nATOM    391  N   SER A  52      -8.159   1.268  -5.233  1.00  0.94           N  \\nATOM    392  CA  SER A  52      -8.925   0.038  -5.062  1.00  0.94           C  \\nATOM    393  C   SER A  52      -8.538  -1.004  -6.107  1.00  0.94           C  \\nATOM    394  CB  SER A  52     -10.425   0.323  -5.145  1.00  0.94           C  \\nATOM    395  O   SER A  52      -8.594  -2.206  -5.842  1.00  0.94           O  \\nATOM    396  OG  SER A  52     -10.764   0.861  -6.412  1.00  0.94           O  \\nATOM    397  N   PHE A  53      -8.046  -0.566  -7.253  1.00  0.94           N  \\nATOM    398  CA  PHE A  53      -7.730  -1.474  -8.350  1.00  0.94           C  \\nATOM    399  C   PHE A  53      -6.325  -2.044  -8.193  1.00  0.94           C  \\nATOM    400  CB  PHE A  53      -7.858  -0.756  -9.697  1.00  0.94           C  \\nATOM    401  O   PHE A  53      -5.926  -2.940  -8.941  1.00  0.94           O  \\nATOM    402  CG  PHE A  53      -7.076   0.527  -9.779  1.00  0.94           C  \\nATOM    403  CD1 PHE A  53      -7.662   1.738  -9.432  1.00  0.94           C  \\nATOM    404  CD2 PHE A  53      -5.753   0.521 -10.202  1.00  0.94           C  \\nATOM    405  CE1 PHE A  53      -6.941   2.927  -9.506  1.00  0.94           C  \\nATOM    406  CE2 PHE A  53      -5.026   1.706 -10.279  1.00  0.94           C  \\nATOM    407  CZ  PHE A  53      -5.622   2.907  -9.932  1.00  0.94           C  \\nATOM    408  N   MET A  54      -5.602  -1.551  -7.161  1.00  0.94           N  \\nATOM    409  CA  MET A  54      -4.223  -1.982  -6.952  1.00  0.94           C  \\nATOM    410  C   MET A  54      -4.080  -2.726  -5.629  1.00  0.94           C  \\nATOM    411  CB  MET A  54      -3.273  -0.783  -6.983  1.00  0.94           C  \\nATOM    412  O   MET A  54      -3.035  -3.321  -5.356  1.00  0.94           O  \\nATOM    413  CG  MET A  54      -3.224  -0.074  -8.327  1.00  0.94           C  \\nATOM    414  SD  MET A  54      -2.193   1.443  -8.285  1.00  0.94           S  \\nATOM    415  CE  MET A  54      -0.566   0.715  -7.950  1.00  0.94           C  \\nATOM    416  N   VAL A  55      -5.125  -2.700  -4.843  1.00  0.95           N  \\nATOM    417  CA  VAL A  55      -4.967  -3.268  -3.509  1.00  0.95           C  \\nATOM    418  C   VAL A  55      -6.106  -4.243  -3.223  1.00  0.95           C  \\nATOM    419  CB  VAL A  55      -4.923  -2.167  -2.425  1.00  0.95           C  \\nATOM    420  O   VAL A  55      -7.167  -4.168  -3.848  1.00  0.95           O  \\nATOM    421  CG1 VAL A  55      -3.714  -1.256  -2.629  1.00  0.95           C  \\nATOM    422  CG2 VAL A  55      -6.217  -1.355  -2.439  1.00  0.95           C  \\nATOM    423  N   LYS A  56      -5.796  -5.168  -2.418  1.00  0.95           N  \\nATOM    424  CA  LYS A  56      -6.770  -6.106  -1.867  1.00  0.95           C  \\nATOM    425  C   LYS A  56      -7.000  -5.850  -0.381  1.00  0.95           C  \\nATOM    426  CB  LYS A  56      -6.310  -7.548  -2.086  1.00  0.95           C  \\nATOM    427  O   LYS A  56      -6.046  -5.786   0.398  1.00  0.95           O  \\nATOM    428  CG  LYS A  56      -7.315  -8.594  -1.626  1.00  0.95           C  \\nATOM    429  CD  LYS A  56      -6.837 -10.006  -1.943  1.00  0.95           C  \\nATOM    430  CE  LYS A  56      -7.844 -11.053  -1.488  1.00  0.95           C  \\nATOM    431  NZ  LYS A  56      -7.390 -12.438  -1.817  1.00  0.95           N  \\nATOM    432  N   VAL A  57      -8.240  -5.628  -0.050  1.00  0.94           N  \\nATOM    433  CA  VAL A  57      -8.594  -5.301   1.327  1.00  0.94           C  \\nATOM    434  C   VAL A  57      -9.315  -6.484   1.970  1.00  0.94           C  \\nATOM    435  CB  VAL A  57      -9.475  -4.034   1.402  1.00  0.94           C  \\nATOM    436  O   VAL A  57     -10.260  -7.030   1.395  1.00  0.94           O  \\nATOM    437  CG1 VAL A  57      -9.821  -3.701   2.852  1.00  0.94           C  \\nATOM    438  CG2 VAL A  57      -8.771  -2.856   0.732  1.00  0.94           C  \\nATOM    439  N   GLU A  58      -8.830  -6.908   3.113  1.00  0.93           N  \\nATOM    440  CA  GLU A  58      -9.434  -7.955   3.932  1.00  0.93           C  \\nATOM    441  C   GLU A  58      -9.802  -7.429   5.316  1.00  0.93           C  \\nATOM    442  CB  GLU A  58      -8.487  -9.151   4.059  1.00  0.93           C  \\nATOM    443  O   GLU A  58      -8.978  -6.806   5.989  1.00  0.93           O  \\nATOM    444  CG  GLU A  58      -8.198  -9.850   2.738  1.00  0.93           C  \\nATOM    445  CD  GLU A  58      -7.317 -11.079   2.889  1.00  0.93           C  \\nATOM    446  OE1 GLU A  58      -7.132 -11.820   1.897  1.00  0.93           O  \\nATOM    447  OE2 GLU A  58      -6.808 -11.305   4.010  1.00  0.93           O  \\nATOM    448  N   GLU A  59     -11.130  -7.530   5.747  1.00  0.87           N  \\nATOM    449  CA  GLU A  59     -11.564  -7.099   7.072  1.00  0.87           C  \\nATOM    450  C   GLU A  59     -11.191  -8.127   8.137  1.00  0.87           C  \\nATOM    451  CB  GLU A  59     -13.075  -6.849   7.088  1.00  0.87           C  \\nATOM    452  O   GLU A  59     -11.210  -9.332   7.877  1.00  0.87           O  \\nATOM    453  CG  GLU A  59     -13.527  -5.755   6.133  1.00  0.87           C  \\nATOM    454  CD  GLU A  59     -15.034  -5.551   6.125  1.00  0.87           C  \\nATOM    455  OE1 GLU A  59     -15.528  -4.709   5.340  1.00  0.87           O  \\nATOM    456  OE2 GLU A  59     -15.725  -6.236   6.911  1.00  0.87           O  \\n\",\"pdb\");\n\tviewer_16268281296228747.setStyle({\"cartoon\": {\"colorscheme\": {\"prop\": \"b\", \"gradient\": \"roygb\", \"min\": 0, \"max\": 1}}});\n\tviewer_16268281296228747.zoomTo();\nviewer_16268281296228747.render();\n});\n</script>"
              }
            ],
            "_view_module": "@jupyter-widgets/output",
            "_model_module_version": "1.0.0",
            "_view_count": null,
            "_view_module_version": "1.0.0",
            "layout": "IPY_MODEL_e6bc1a78ebb14d2d9249417da7380b16",
            "_model_module": "@jupyter-widgets/output"
          }
        },
        "5dea1aa06bd549b892f9492e9bcbc867": {
          "model_module": "@jupyter-widgets/controls",
          "model_name": "DescriptionStyleModel",
          "state": {
            "_view_name": "StyleView",
            "_model_name": "DescriptionStyleModel",
            "description_width": "",
            "_view_module": "@jupyter-widgets/base",
            "_model_module_version": "1.5.0",
            "_view_count": null,
            "_view_module_version": "1.2.0",
            "_model_module": "@jupyter-widgets/controls"
          }
        },
        "cd5988c13e5742008eb3e1ef1cf9dd2a": {
          "model_module": "@jupyter-widgets/base",
          "model_name": "LayoutModel",
          "state": {
            "_view_name": "LayoutView",
            "grid_template_rows": null,
            "right": null,
            "justify_content": null,
            "_view_module": "@jupyter-widgets/base",
            "overflow": null,
            "_model_module_version": "1.2.0",
            "_view_count": null,
            "flex_flow": null,
            "width": null,
            "min_width": null,
            "border": null,
            "align_items": null,
            "bottom": null,
            "_model_module": "@jupyter-widgets/base",
            "top": null,
            "grid_column": null,
            "overflow_y": null,
            "overflow_x": null,
            "grid_auto_flow": null,
            "grid_area": null,
            "grid_template_columns": null,
            "flex": null,
            "_model_name": "LayoutModel",
            "justify_items": null,
            "grid_row": null,
            "max_height": null,
            "align_content": null,
            "visibility": null,
            "align_self": null,
            "height": null,
            "min_height": null,
            "padding": null,
            "grid_auto_rows": null,
            "grid_gap": null,
            "max_width": null,
            "order": null,
            "_view_module_version": "1.2.0",
            "grid_template_areas": null,
            "object_position": null,
            "object_fit": null,
            "grid_auto_columns": null,
            "margin": null,
            "display": null,
            "left": null
          }
        },
        "647c3680390643a0affd69d8050a3519": {
          "model_module": "@jupyter-widgets/controls",
          "model_name": "DescriptionStyleModel",
          "state": {
            "_view_name": "StyleView",
            "_model_name": "DescriptionStyleModel",
            "description_width": "",
            "_view_module": "@jupyter-widgets/base",
            "_model_module_version": "1.5.0",
            "_view_count": null,
            "_view_module_version": "1.2.0",
            "_model_module": "@jupyter-widgets/controls"
          }
        },
        "cdb93c709bc747d4b9b24577a4d61667": {
          "model_module": "@jupyter-widgets/base",
          "model_name": "LayoutModel",
          "state": {
            "_view_name": "LayoutView",
            "grid_template_rows": null,
            "right": null,
            "justify_content": null,
            "_view_module": "@jupyter-widgets/base",
            "overflow": null,
            "_model_module_version": "1.2.0",
            "_view_count": null,
            "flex_flow": null,
            "width": null,
            "min_width": null,
            "border": null,
            "align_items": null,
            "bottom": null,
            "_model_module": "@jupyter-widgets/base",
            "top": null,
            "grid_column": null,
            "overflow_y": null,
            "overflow_x": null,
            "grid_auto_flow": null,
            "grid_area": null,
            "grid_template_columns": null,
            "flex": null,
            "_model_name": "LayoutModel",
            "justify_items": null,
            "grid_row": null,
            "max_height": null,
            "align_content": null,
            "visibility": null,
            "align_self": null,
            "height": null,
            "min_height": null,
            "padding": null,
            "grid_auto_rows": null,
            "grid_gap": null,
            "max_width": null,
            "order": null,
            "_view_module_version": "1.2.0",
            "grid_template_areas": null,
            "object_position": null,
            "object_fit": null,
            "grid_auto_columns": null,
            "margin": null,
            "display": null,
            "left": null
          }
        },
        "6cdbdc3801894a398230fe2af077240a": {
          "model_module": "@jupyter-widgets/controls",
          "model_name": "DescriptionStyleModel",
          "state": {
            "_view_name": "StyleView",
            "_model_name": "DescriptionStyleModel",
            "description_width": "",
            "_view_module": "@jupyter-widgets/base",
            "_model_module_version": "1.5.0",
            "_view_count": null,
            "_view_module_version": "1.2.0",
            "_model_module": "@jupyter-widgets/controls"
          }
        },
        "29738690868947d189674b1d315ac12e": {
          "model_module": "@jupyter-widgets/base",
          "model_name": "LayoutModel",
          "state": {
            "_view_name": "LayoutView",
            "grid_template_rows": null,
            "right": null,
            "justify_content": null,
            "_view_module": "@jupyter-widgets/base",
            "overflow": null,
            "_model_module_version": "1.2.0",
            "_view_count": null,
            "flex_flow": null,
            "width": null,
            "min_width": null,
            "border": null,
            "align_items": null,
            "bottom": null,
            "_model_module": "@jupyter-widgets/base",
            "top": null,
            "grid_column": null,
            "overflow_y": null,
            "overflow_x": null,
            "grid_auto_flow": null,
            "grid_area": null,
            "grid_template_columns": null,
            "flex": null,
            "_model_name": "LayoutModel",
            "justify_items": null,
            "grid_row": null,
            "max_height": null,
            "align_content": null,
            "visibility": null,
            "align_self": null,
            "height": null,
            "min_height": null,
            "padding": null,
            "grid_auto_rows": null,
            "grid_gap": null,
            "max_width": null,
            "order": null,
            "_view_module_version": "1.2.0",
            "grid_template_areas": null,
            "object_position": null,
            "object_fit": null,
            "grid_auto_columns": null,
            "margin": null,
            "display": null,
            "left": null
          }
        },
        "cfdbe40824ad419d89da3356a4355764": {
          "model_module": "@jupyter-widgets/controls",
          "model_name": "DescriptionStyleModel",
          "state": {
            "_view_name": "StyleView",
            "_model_name": "DescriptionStyleModel",
            "description_width": "",
            "_view_module": "@jupyter-widgets/base",
            "_model_module_version": "1.5.0",
            "_view_count": null,
            "_view_module_version": "1.2.0",
            "_model_module": "@jupyter-widgets/controls"
          }
        },
        "c9bb0e0e3ae84cf9857fec2fcb4323fb": {
          "model_module": "@jupyter-widgets/base",
          "model_name": "LayoutModel",
          "state": {
            "_view_name": "LayoutView",
            "grid_template_rows": null,
            "right": null,
            "justify_content": null,
            "_view_module": "@jupyter-widgets/base",
            "overflow": null,
            "_model_module_version": "1.2.0",
            "_view_count": null,
            "flex_flow": null,
            "width": null,
            "min_width": null,
            "border": null,
            "align_items": null,
            "bottom": null,
            "_model_module": "@jupyter-widgets/base",
            "top": null,
            "grid_column": null,
            "overflow_y": null,
            "overflow_x": null,
            "grid_auto_flow": null,
            "grid_area": null,
            "grid_template_columns": null,
            "flex": null,
            "_model_name": "LayoutModel",
            "justify_items": null,
            "grid_row": null,
            "max_height": null,
            "align_content": null,
            "visibility": null,
            "align_self": null,
            "height": null,
            "min_height": null,
            "padding": null,
            "grid_auto_rows": null,
            "grid_gap": null,
            "max_width": null,
            "order": null,
            "_view_module_version": "1.2.0",
            "grid_template_areas": null,
            "object_position": null,
            "object_fit": null,
            "grid_auto_columns": null,
            "margin": null,
            "display": null,
            "left": null
          }
        },
        "e6bc1a78ebb14d2d9249417da7380b16": {
          "model_module": "@jupyter-widgets/base",
          "model_name": "LayoutModel",
          "state": {
            "_view_name": "LayoutView",
            "grid_template_rows": null,
            "right": null,
            "justify_content": null,
            "_view_module": "@jupyter-widgets/base",
            "overflow": null,
            "_model_module_version": "1.2.0",
            "_view_count": null,
            "flex_flow": null,
            "width": null,
            "min_width": null,
            "border": null,
            "align_items": null,
            "bottom": null,
            "_model_module": "@jupyter-widgets/base",
            "top": null,
            "grid_column": null,
            "overflow_y": null,
            "overflow_x": null,
            "grid_auto_flow": null,
            "grid_area": null,
            "grid_template_columns": null,
            "flex": null,
            "_model_name": "LayoutModel",
            "justify_items": null,
            "grid_row": null,
            "max_height": null,
            "align_content": null,
            "visibility": null,
            "align_self": null,
            "height": null,
            "min_height": null,
            "padding": null,
            "grid_auto_rows": null,
            "grid_gap": null,
            "max_width": null,
            "order": null,
            "_view_module_version": "1.2.0",
            "grid_template_areas": null,
            "object_position": null,
            "object_fit": null,
            "grid_auto_columns": null,
            "margin": null,
            "display": null,
            "left": null
          }
        }
      }
    }
  },
  "cells": [
    {
      "cell_type": "markdown",
      "metadata": {
        "id": "view-in-github",
        "colab_type": "text"
      },
      "source": [
        "<a href=\"https://colab.research.google.com/github/sokrypton/ColabFold/blob/main/AlphaFold2.ipynb\" target=\"_parent\"><img src=\"https://colab.research.google.com/assets/colab-badge.svg\" alt=\"Open In Colab\"/></a>"
      ]
    },
    {
      "cell_type": "markdown",
      "metadata": {
        "id": "G4yBrceuFbf3"
      },
      "source": [
        "#Protein structure prediction with AlphaFold2 and MMseqs2"
      ]
    },
    {
      "cell_type": "markdown",
      "metadata": {
        "id": "UGUBLzB3C6WN"
      },
      "source": [
        "Easy to use version of AlphaFold 2 (Jumper et al. 2021, Nature) using an API hosted at the Södinglab based on the MMseqs2 server (Mirdita et al. 2019, Bioinformatics) for the multiple sequence alignment creation.\n",
        "\n",
        "**Quickstart**\n",
        "1. Change the runtime type to GPU at \"Runtime\" -> \"Change runtime type\" (improves speed).\n",
        "2. Paste your protein sequence in the input field below.\n",
        "3. Press \"Runtime\" -> \"Run all\".\n",
        "4. The pipeline consists of 10 steps. The currently running steps is indicated by a circle with a stop sign next to it.\n",
        "\n",
        "**Result**\n",
        "\n",
        "1. PDB formated structures sorted by avg. pIDDT. (relaxed, unrelaxed).\n",
        "2. Plots of the model quality.\n",
        "3. Plots of the msa coverage.\n",
        "4. Parameter log file.\n",
        "5. A3M formatted input MSA.\n",
        "\n",
        "At the end of the job a download modal box will popup with a `jobname.result.zip` file.\n",
        "\n",
        "**Using a custom MSA as input**\n",
        "\n",
        "To predict the structure with a custom MSA (A3M formatted) (1) Past the input sequence into the \"query_sequence\" field. (2) Change the msa_mode: to \"custom\", (3) \"Runtime\" -> \"Run all\". (4) A upload box will appear at the end of the \"Input Protein ...\" box. Upload your A3M. \n",
        "\n",
        "To generate good input MSAs HHblits can be used here: https://toolkit.tuebingen.mpg.de/tools/hhblits\n",
        "Hit submit you query -> click \"Query Template MSA\" -> \"Download Full A3M\".\n",
        "Download the a3m file and upload it to the notebook!\n",
        "\n",
        "**Troubleshooting**\n",
        "* Try to restart the session \"Runntime\" -> \"Factory reset runtime\".\n",
        "* Check your input sequence.\n",
        "\n",
        "**Known issues**\n",
        "* Colab assigns different type of GPUs, some might have not enough memory to predict the structure.\n",
        "* Browser can block the download of the result.\n",
        "\n",
        "**Limitations**\n",
        "* MSAs: MMseqs2 is very precise and sensitive but might find less hits compared to HHblits/HMMer searched against BFD or Mgnify.\n",
        "* Computing resources: MMseqs2 can probably handle >20k requests per day since we run it only on 16 cores.\n",
        "\n",
        "For best results, we recommend using the full pipeline: https://github.com/deepmind/alphafold\n",
        "\n",
        "**Acknowledgements**\n",
        "\n",
        "Most of the python code was written by Sergey Ovchinnikov (@sokrypton). The API is hosted at the Södinglab (@SoedingL) and maintained by Milot Mirdita (@milot_mirdita). Martin Steinegger (@thesteinegger) integrated everything. Also credit to [David Koes](https://github.com/dkoes) for his awesome [py3Dmol](https://3dmol.csb.pitt.edu/) plugin, without whom these notebooks would be quite boring!\n",
        "\n",
        "For related notebooks see: [ColabFold](https://github.com/sokrypton/ColabFold)"
      ]
    },
    {
      "cell_type": "code",
      "metadata": {
        "id": "kOblAo-xetgx",
        "cellView": "form"
      },
      "source": [
        "#@title Input protein sequence here before you \"Run all\"\n",
        "from google.colab import files\n",
        "import os\n",
        "import os.path\n",
        "import re\n",
        "\n",
        "query_sequence = 'MAKTIKITQTRSAIGRLPKHKATLLGLGLRRIGHTVEREDTPAIRGMINAVSFMVKVEE' #@param {type:\"string\"}\n",
        "# remove whitespaces\n",
        "query_sequence = \"\".join(query_sequence.split())\n",
        "query_sequence = re.sub(r'[^a-zA-Z]','', query_sequence).upper()\n",
        "\n",
        "jobname = 'RL30_ECOLI' #@param {type:\"string\"}\n",
        "# remove whitespaces\n",
        "jobname = \"\".join(jobname.split())\n",
        "jobname = re.sub(r'\\W+', '', jobname)\n",
        "\n",
        "with open(f\"{jobname}.fasta\", \"w\") as text_file:\n",
        "    text_file.write(\">1\\n%s\" % query_sequence)\n",
        "\n",
        "# number of models to use\n",
        "#@markdown ---\n",
        "#@markdown ### Advanced settings\n",
        "num_models = 5 #@param [1,2,3,4,5] {type:\"raw\"}\n",
        "msa_mode = \"MMseqs2\" #@param [\"MMseqs2\",\"single_sequence\",\"custom\"]\n",
        "use_msa = True if msa_mode == \"MMseqs2\" else False\n",
        "use_custom_msa = True if msa_mode == \"custom\" else False\n",
        "use_amber = False #@param {type:\"boolean\"}\n",
        "use_templates = False #@param {type:\"boolean\"}\n",
        "#@markdown ---\n",
        "\n",
        "with open(f\"{jobname}.log\", \"w\") as text_file:\n",
        "    text_file.write(\"num_models=%s\\n\" % num_models)\n",
        "    text_file.write(\"use_amber=%s\\n\" % use_amber)\n",
        "    text_file.write(\"use_msa=%s\\n\" % use_msa)\n",
        "    text_file.write(\"msa_mode=%s\\n\" % msa_mode)\n",
        "    text_file.write(\"use_templates=%s\\n\" % use_templates)\n",
        "\n",
        "# decide which a3m to use\n",
        "if use_msa:\n",
        "  a3m_file = f\"{jobname}.a3m\"\n",
        "elif use_custom_msa:\n",
        "  a3m_file = f\"{jobname}.custom.a3m\"\n",
        "  if not os.path.isfile(a3m_file):\n",
        "    custom_msa_dict = files.upload()\n",
        "    custom_msa = list(custom_msa_dict.keys())[0]\n",
        "    os.rename(custom_msa, a3m_file)\n",
        "    print(f\"moving {custom_msa} to {a3m_file}\")\n",
        "else:\n",
        "  a3m_file = f\"{jobname}.single_sequence.a3m\"\n",
        "  with open(a3m_file, \"w\") as text_file:\n",
        "    text_file.write(\">1\\n%s\" % query_sequence)"
      ],
      "execution_count": 18,
      "outputs": []
    },
    {
      "cell_type": "code",
      "metadata": {
        "id": "iccGdbe_Pmt9",
        "cellView": "form"
      },
      "source": [
        "#@title Install dependencies\n",
        "%%bash -s $use_amber $use_msa $use_templates\n",
        "\n",
        "USE_AMBER=$1\n",
        "USE_MSA=$2\n",
        "USE_TEMPLATES=$3\n",
        "\n",
        "if [ ! -f AF2_READY ]; then\n",
        "  # install dependencies\n",
        "  pip -q install biopython\n",
        "  pip -q install dm-haiku\n",
        "  pip -q install ml-collections\n",
        "  pip -q install py3Dmol\n",
        "\n",
        "  # download model\n",
        "  if [ ! -d \"alphafold/\" ]; then\n",
        "    git clone https://github.com/deepmind/alphafold.git --quiet\n",
        "    mv alphafold alphafold_\n",
        "    mv alphafold_/alphafold .\n",
        "    # remove \"END\" from PDBs, otherwise biopython complains\n",
        "    sed -i \"s/pdb_lines.append('END')//\" /content/alphafold/common/protein.py\n",
        "    sed -i \"s/pdb_lines.append('ENDMDL')//\" /content/alphafold/common/protein.py\n",
        "  fi\n",
        "\n",
        "  # download model params (~1 min)\n",
        "  if [ ! -d \"params/\" ]; then\n",
        "    wget -qnc https://storage.googleapis.com/alphafold/alphafold_params_2021-07-14.tar\n",
        "    mkdir params\n",
        "    tar -xf alphafold_params_2021-07-14.tar -C params/\n",
        "    rm alphafold_params_2021-07-14.tar\n",
        "  fi\n",
        "  touch AF2_READY\n",
        "fi\n",
        "# download libraries for interfacing with MMseqs2 API\n",
        "if [ ${USE_MSA} == \"True\" ] || [ ${USE_TEMPLATES} == \"True\" ]; then\n",
        "  if [ ! -f MMSEQ2_READY ]; then\n",
        "    apt-get -qq -y update 2>&1 1>/dev/null\n",
        "    apt-get -qq -y install jq curl zlib1g gawk 2>&1 1>/dev/null\n",
        "    touch MMSEQ2_READY\n",
        "  fi\n",
        "fi\n",
        "# setup conda\n",
        "if [ ${USE_AMBER} == \"True\" ] || [ ${USE_TEMPLATES} == \"True\" ]; then\n",
        "  if [ ! -f CONDA_READY ]; then\n",
        "    wget -qnc https://repo.anaconda.com/miniconda/Miniconda3-latest-Linux-x86_64.sh\n",
        "    bash Miniconda3-latest-Linux-x86_64.sh -bfp /usr/local 2>&1 1>/dev/null\n",
        "    rm Miniconda3-latest-Linux-x86_64.sh\n",
        "    touch CONDA_READY\n",
        "  fi\n",
        "fi\n",
        "# setup template search\n",
        "if [ ${USE_TEMPLATES} == \"True\" ] && [ ! -f HH_READY ]; then\n",
        "  conda install -y -q -c conda-forge -c bioconda kalign3=3.2.2 hhsuite=3.3.0 python=3.7 2>&1 1>/dev/null\n",
        "  touch HH_READY\n",
        "fi\n",
        "# setup openmm for amber refinement\n",
        "if [ ${USE_AMBER} == \"True\" ] && [ ! -f AMBER_READY ]; then\n",
        "  conda install -y -q -c conda-forge openmm=7.5.1 python=3.7 pdbfixer 2>&1 1>/dev/null\n",
        "  (cd /usr/local/lib/python3.7/site-packages; patch -s -p0 < /content/alphafold_/docker/openmm.patch)\n",
        "  wget -qnc https://git.scicore.unibas.ch/schwede/openstructure/-/raw/7102c63615b64735c4941278d92b554ec94415f8/modules/mol/alg/src/stereo_chemical_props.txt\n",
        "  mv stereo_chemical_props.txt alphafold/common/\n",
        "  touch AMBER_READY\n",
        "fi"
      ],
      "execution_count": 19,
      "outputs": []
    },
    {
      "cell_type": "code",
      "metadata": {
        "id": "A9tUpDaikPC8",
        "cellView": "form",
        "outputId": "da59ab71-32c1-4bf0-c964-d0a3f841ae1b",
        "colab": {
          "base_uri": "https://localhost:8080/"
        }
      },
      "source": [
        "#@title Call MMseqs2 to get MSA/templates\n",
        "%%bash -s $use_amber $use_msa $use_templates $jobname\n",
        "USE_AMBER=$1\n",
        "USE_MSA=$2\n",
        "USE_TEMPLATES=$3\n",
        "NAME=$4\n",
        "if [ ${USE_MSA} == \"True\" ] || [ ${USE_TEMPLATES} == \"True\" ]; then\n",
        "  if [ ! -f ${NAME}.mmseqs2.tar.gz ]; then\n",
        "    # query MMseqs2 webserver\n",
        "    echo \"submitting job\"\n",
        "    ID=$(curl -s -F q=@${NAME}.fasta -F mode=all https://a3m.mmseqs.com/ticket/msa | jq -r '.id')\n",
        "    STATUS=$(curl -s https://a3m.mmseqs.com/ticket/${ID} | jq -r '.status')\n",
        "    while [ \"${STATUS}\" == \"RUNNING\" ]; do\n",
        "      STATUS=$(curl -s https://a3m.mmseqs.com/ticket/${ID} | jq -r '.status')\n",
        "      sleep 1\n",
        "    done\n",
        "    if [ \"${STATUS}\" == \"COMPLETE\" ]; then\n",
        "      curl -s https://a3m.mmseqs.com/result/download/${ID} > ${NAME}.mmseqs2.tar.gz\n",
        "      tar xzf ${NAME}.mmseqs2.tar.gz\n",
        "      tr -d '\\000' < uniref.a3m > ${NAME}.a3m\n",
        "      rm uniref.a3m\n",
        "      mv pdb70.m8 ${NAME}.m8\n",
        "    else\n",
        "      echo \"MMseqs2 server did not return a valid result.\"\n",
        "      cp ${NAME}.fasta ${NAME}.a3m\n",
        "    fi\n",
        "  fi\n",
        "  if [ ${USE_MSA} == \"True\" ]; then\n",
        "    echo \"Found $(grep -c \">\" ${NAME}.a3m) sequences (after redundacy filtering)\"\n",
        "  fi\n",
        "  if [ ${USE_TEMPLATES} == \"True\" ] && [ ! -f ${NAME}_hhm.ffindex ]; then\n",
        "    echo \"getting templates\"\n",
        "    if [ -s ${NAME}.m8 ]; then\n",
        "      if [ ! -d templates ]; then\n",
        "        mkdir templates/\n",
        "      fi\n",
        "      printf \"pdb\\tevalue\\n\"\n",
        "      head -n 20 ${NAME}.m8 | awk '{print $2\"\\t\"$11}'\n",
        "      TMPL=$(head -n 20 ${NAME}.m8 | awk '{printf $2\",\"}')\n",
        "      curl -s https://a3m-templates.mmseqs.com/template/${TMPL} | tar xzf - -C templates/\n",
        "      mv templates/pdb70_a3m.ffdata ${NAME}_a3m.ffdata\n",
        "      mv templates/pdb70_a3m.ffindex ${NAME}_a3m.ffindex\n",
        "      mv templates/pdb70_hhm.ffdata ${NAME}_hhm.ffdata\n",
        "      mv templates/pdb70_hhm.ffindex ${NAME}_hhm.ffindex\n",
        "      cp ${NAME}_a3m.ffindex ${NAME}_cs219.ffindex\n",
        "      touch ${NAME}_cs219.ffdata\n",
        "      echo \"hi\"\n",
        "    else\n",
        "      echo \"no templates found\"\n",
        "    fi\n",
        "  fi\n",
        "fi"
      ],
      "execution_count": 20,
      "outputs": [
        {
          "output_type": "stream",
          "text": [
            "submitting job\n",
            "Found 3351 sequences (after redundacy filtering)\n",
            "getting templates\n",
            "pdb\tevalue\n",
            "6VLZ_Z\t2.649E-29\n",
            "6VMI_Z\t2.649E-29\n",
            "6NU2_Z\t4.995E-29\n",
            "6XYW_Az\t1.294E-28\n",
            "3J6B_U\t3.350E-28\n",
            "5MRF_U\t4.601E-28\n",
            "6SPB_Z\t6.318E-28\n",
            "6SPG_Z\t6.318E-28\n",
            "5NJT_w\t2.248E-27\n",
            "4YBB_C0\t3.087E-27\n",
            "5J8A_C0\t3.087E-27\n",
            "6DZI_a\t5.822E-27\n",
            "1SM1_X\t7.997E-27\n",
            "4IOA_W\t7.997E-27\n",
            "5DM6_W\t7.997E-27\n",
            "5MYJ_B2\t2.845E-26\n",
            "1BXY_B\t2.845E-26\n",
            "4V4J_X\t2.845E-26\n",
            "4WZD_H5\t2.845E-26\n",
            "5O60_a\t2.845E-26\n",
            "hi\n"
          ],
          "name": "stdout"
        },
        {
          "output_type": "stream",
          "text": [
            "tar: pdb70_a3m.ffdata: time stamp 2021-07-21 00:39:34 is 0.132623034 s in the future\n",
            "tar: pdb70_a3m.ffindex: time stamp 2021-07-21 00:39:34 is 0.125378649 s in the future\n",
            "tar: pdb70_hhm.ffdata: time stamp 2021-07-21 00:39:34 is 0.038231788 s in the future\n",
            "tar: pdb70_hhm.ffindex: time stamp 2021-07-21 00:39:34 is 0.03812137 s in the future\n"
          ],
          "name": "stderr"
        }
      ]
    },
    {
      "cell_type": "code",
      "metadata": {
        "id": "JPWfhGssZdTb",
        "cellView": "form"
      },
      "source": [
        "#@title Import libraries and setup model\n",
        "# the following code is written by Sergey Ovchinnikov\n",
        "# setup the model\n",
        "if \"model\" not in dir():\n",
        "\n",
        "  # hiding warning messages\n",
        "  import warnings\n",
        "  from absl import logging\n",
        "  import os\n",
        "  import tensorflow as tf\n",
        "  warnings.filterwarnings('ignore')\n",
        "  logging.set_verbosity(\"error\")\n",
        "  os.environ['TF_CPP_MIN_LOG_LEVEL'] = '3'\n",
        "  tf.get_logger().setLevel('ERROR')\n",
        "\n",
        "  import sys\n",
        "  import numpy as np\n",
        "  import pickle\n",
        "  from alphafold.common import protein\n",
        "  from alphafold.data import pipeline\n",
        "  from alphafold.data import templates\n",
        "  from alphafold.model import data\n",
        "  from alphafold.model import config\n",
        "  from alphafold.model import model\n",
        "  from alphafold.data.tools import hhsearch\n",
        "\n",
        "  # plotting libraries\n",
        "  import py3Dmol\n",
        "  import matplotlib.pyplot as plt\n",
        "  import ipywidgets\n",
        "  from ipywidgets import interact, fixed\n",
        "\n",
        "if use_amber and \"relax\" not in dir():\n",
        "  sys.path.insert(0, '/usr/local/lib/python3.7/site-packages/')\n",
        "  from alphafold.relax import relax\n",
        "\n",
        "if \"model_params\" not in dir(): model_params = {}\n",
        "for model_name in [\"model_1\",\"model_2\",\"model_3\",\"model_4\",\"model_5\"][:num_models]:\n",
        "  if model_name not in model_params:\n",
        "    model_config = config.model_config(model_name)\n",
        "    model_config.data.eval.num_ensemble = 1\n",
        "    model_params[model_name] = data.get_model_haiku_params(model_name=model_name, data_dir=\".\")\n",
        "    if model_name == \"model_1\":\n",
        "      model_runner_1 = model.RunModel(model_config, model_params[model_name])\n",
        "    if model_name == \"model_3\":\n",
        "      model_runner_3 = model.RunModel(model_config, model_params[model_name])\n",
        "\n",
        "def mk_mock_template(query_sequence):\n",
        "  # since alphafold's model requires a template input\n",
        "  # we create a blank example w/ zero input, confidence -1\n",
        "  ln = len(query_sequence)\n",
        "  output_templates_sequence = \"-\"*ln\n",
        "  output_confidence_scores = np.full(ln,-1)\n",
        "  templates_all_atom_positions = np.zeros((ln, templates.residue_constants.atom_type_num, 3))\n",
        "  templates_all_atom_masks = np.zeros((ln, templates.residue_constants.atom_type_num))\n",
        "  templates_aatype = templates.residue_constants.sequence_to_onehot(output_templates_sequence,\n",
        "                                                                    templates.residue_constants.HHBLITS_AA_TO_ID)\n",
        "  template_features = {'template_all_atom_positions': templates_all_atom_positions[None],\n",
        "                       'template_all_atom_masks': templates_all_atom_masks[None],\n",
        "                       'template_sequence': [f'none'.encode()],\n",
        "                       'template_aatype': np.array(templates_aatype)[None],\n",
        "                       'template_confidence_scores': output_confidence_scores[None],\n",
        "                       'template_domain_names': [f'none'.encode()],\n",
        "                       'template_release_date': [f'none'.encode()]}\n",
        "  return template_features\n",
        "\n",
        "def mk_template(jobname):\n",
        "  template_featurizer = templates.TemplateHitFeaturizer(\n",
        "      mmcif_dir=\"templates/\",\n",
        "      max_template_date=\"2100-01-01\",\n",
        "      max_hits=20,\n",
        "      kalign_binary_path=\"kalign\",\n",
        "      release_dates_path=None,\n",
        "      obsolete_pdbs_path=None)\n",
        "\n",
        "  hhsearch_pdb70_runner = hhsearch.HHSearch(binary_path=\"hhsearch\",databases=[jobname])\n",
        "\n",
        "  a3m_lines = \"\\n\".join(open(f\"{jobname}.a3m\",\"r\").readlines())\n",
        "  hhsearch_result = hhsearch_pdb70_runner.query(a3m_lines)\n",
        "  hhsearch_hits = pipeline.parsers.parse_hhr(hhsearch_result)\n",
        "  templates_result = template_featurizer.get_templates(query_sequence=query_sequence,\n",
        "                                                       query_pdb_code=None,\n",
        "                                                       query_release_date=None,\n",
        "                                                       hhr_hits=hhsearch_hits)\n",
        "  return templates_result.features\n",
        "\n",
        "def set_bfactor(pdb_filename, bfac):\n",
        "  I = open(pdb_filename,\"r\").readlines()\n",
        "  O = open(pdb_filename,\"w\")\n",
        "  for line in I:\n",
        "    if line[0:6] == \"ATOM  \":\n",
        "      seq_id = int(line[23:26].strip()) - 1\n",
        "      O.write(\"{prefix}{bfac:6.2f}{suffix}\".format(prefix=line[:60], bfac=bfac[seq_id], suffix=line[66:]))\n",
        "  O.close()\n",
        "\n",
        "def predict_structure(prefix, feature_dict, do_relax=True, random_seed=0):  \n",
        "  \"\"\"Predicts structure using AlphaFold for the given sequence.\"\"\"\n",
        "\n",
        "  # Run the models.\n",
        "  plddts = []\n",
        "  unrelaxed_pdb_lines = []\n",
        "  relaxed_pdb_lines = []\n",
        "\n",
        "  for model_name, params in model_params.items():\n",
        "    print(f\"running {model_name}\")\n",
        "    # swap params to avoid recompiling\n",
        "    # note: models 1,2 have diff number of params compared to models 3,4,5\n",
        "    if any(str(m) in model_name for m in [1,2]): model_runner = model_runner_1\n",
        "    if any(str(m) in model_name for m in [3,4,5]): model_runner = model_runner_3\n",
        "    model_runner.params = params\n",
        "    \n",
        "    processed_feature_dict = model_runner.process_features(feature_dict, random_seed=random_seed)\n",
        "    prediction_result = model_runner.predict(processed_feature_dict)\n",
        "    unrelaxed_protein = protein.from_prediction(processed_feature_dict,prediction_result)\n",
        "    unrelaxed_pdb_lines.append(protein.to_pdb(unrelaxed_protein))\n",
        "    plddts.append(prediction_result['plddt'])\n",
        "\n",
        "    if do_relax:\n",
        "      # Relax the prediction.\n",
        "      amber_relaxer = relax.AmberRelaxation(max_iterations=0,tolerance=2.39,\n",
        "                                            stiffness=10.0,exclude_residues=[],\n",
        "                                            max_outer_iterations=20)      \n",
        "      relaxed_pdb_str, _, _ = amber_relaxer.process(prot=unrelaxed_protein)\n",
        "      relaxed_pdb_lines.append(relaxed_pdb_str)\n",
        "\n",
        "  # rerank models based on predicted lddt\n",
        "  lddt_rank = np.mean(plddts,-1).argsort()[::-1]\n",
        "  plddts_ranked = {}\n",
        "  for n,r in enumerate(lddt_rank):\n",
        "    print(f\"model_{n+1} {np.mean(plddts[r])}\")\n",
        "\n",
        "    unrelaxed_pdb_path = f'{prefix}_unrelaxed_model_{n+1}.pdb'    \n",
        "    with open(unrelaxed_pdb_path, 'w') as f: f.write(unrelaxed_pdb_lines[r])\n",
        "    set_bfactor(unrelaxed_pdb_path,plddts[r]/100)\n",
        "\n",
        "    if do_relax:\n",
        "      relaxed_pdb_path = f'{prefix}_relaxed_model_{n+1}.pdb'\n",
        "      with open(relaxed_pdb_path, 'w') as f: f.write(relaxed_pdb_lines[r])\n",
        "      set_bfactor(relaxed_pdb_path,plddts[r]/100)\n",
        "\n",
        "    plddts_ranked[f\"model_{n+1}\"] = plddts[r]\n",
        "\n",
        "  return plddts_ranked"
      ],
      "execution_count": 21,
      "outputs": []
    },
    {
      "cell_type": "code",
      "metadata": {
        "id": "hUYApPElB30u",
        "cellView": "form",
        "outputId": "9f4a3eb3-52a4-4fca-e7e4-27102f74e3df",
        "colab": {
          "base_uri": "https://localhost:8080/"
        }
      },
      "source": [
        "#@title Gather input features, predict structure\n",
        "# parse TEMPLATES\n",
        "if use_templates and os.path.isfile(f\"{jobname}_hhm.ffindex\"):\n",
        "  template_features = mk_template(jobname)\n",
        "else:\n",
        "  template_features = mk_mock_template(query_sequence)\n",
        "\n",
        "# parse MSA\n",
        "a3m_lines = \"\".join(open(a3m_file,\"r\").readlines())\n",
        "msa, deletion_matrix = pipeline.parsers.parse_a3m(a3m_lines)\n",
        "\n",
        "if len(query_sequence) != len(msa[0]):\n",
        "  print(f\"ERROR: the length of query ({len(query_sequence)}) does not match length of MSA sequences ({len(msa[0])})\")\n",
        "\n",
        "# gather features\n",
        "feature_dict = {\n",
        "    **pipeline.make_sequence_features(sequence=query_sequence,\n",
        "                                      description=\"none\",\n",
        "                                      num_res=len(query_sequence)),\n",
        "    **pipeline.make_msa_features(msas=[msa],deletion_matrices=[deletion_matrix]),\n",
        "    **template_features\n",
        "}\n",
        "plddts = predict_structure(jobname, feature_dict, do_relax=use_amber)"
      ],
      "execution_count": 22,
      "outputs": [
        {
          "output_type": "stream",
          "text": [
            "running model_1\n",
            "model_1 92.70762565834725\n"
          ],
          "name": "stdout"
        }
      ]
    },
    {
      "cell_type": "code",
      "metadata": {
        "id": "exKwNxDxF7IO",
        "cellView": "form",
        "outputId": "4f67491c-b8a4-4801-a3db-381166515330",
        "colab": {
          "base_uri": "https://localhost:8080/",
          "height": 386
        }
      },
      "source": [
        "#@title Plot lDDT per residue\n",
        "# confidence per position\n",
        "plt.figure(dpi=100)\n",
        "for model_name,value in plddts.items():\n",
        "  plt.plot(value,label=model_name)\n",
        "plt.legend()\n",
        "plt.ylim(0,100)\n",
        "plt.ylabel(\"predicted lDDT\")\n",
        "plt.xlabel(\"positions\")\n",
        "plt.savefig(jobname+\"_lDDT.png\")\n",
        "plt.show()"
      ],
      "execution_count": 23,
      "outputs": [
        {
          "output_type": "display_data",
          "data": {
            "image/png": "[encoded data removed]",
            "text/plain": [
              "<Figure size 600x400 with 1 Axes>"
            ]
          },
          "metadata": {
            "tags": [],
            "needs_background": "light"
          }
        }
      ]
    },
    {
      "cell_type": "code",
      "metadata": {
        "id": "6xbvRNrwnJqj",
        "cellView": "form",
        "outputId": "e0fb4a81-fd5f-496a-f379-8a97b7d47acf",
        "colab": {
          "base_uri": "https://localhost:8080/",
          "height": 382
        }
      },
      "source": [
        "#@title Plot Number of Sequences per Position\n",
        "# confidence per position\n",
        "plt.figure(dpi=100)\n",
        "plt.plot((feature_dict[\"msa\"] != 21).sum(0))\n",
        "plt.xlabel(\"positions\")\n",
        "plt.ylabel(\"number of sequences\")\n",
        "plt.savefig(jobname+\"_msa_coverage.png\")\n",
        "plt.show()"
      ],
      "execution_count": 24,
      "outputs": [
        {
          "output_type": "display_data",
          "data": {
            "image/png": "[encoded data removed]",
            "text/plain": [
              "<Figure size 600x400 with 1 Axes>"
            ]
          },
          "metadata": {
            "tags": [],
            "needs_background": "light"
          }
        }
      ]
    },
    {
      "cell_type": "code",
      "metadata": {
        "id": "g-rPnOXdjf18",
        "cellView": "form",
        "outputId": "010a21fc-5d84-403c-98c6-7d59cc44a552",
        "colab": {
          "base_uri": "https://localhost:8080/",
          "height": 642,
          "referenced_widgets": [
            "93ad0d408a2a4c039b944f6c1244fdca",
            "75dcd70751c646748cf1c79fef4c8333",
            "7c47be1687b9493c8e3cdbed8eb0f3ce",
            "74adeafc693846b085b99e98107534a8",
            "917a4249287f404f8f4a9f4d835c660f",
            "8f1ffa3b8a614a1d93017d6910f5f633",
            "796d332932414d08a8a3b0744a969cb2",
            "5dea1aa06bd549b892f9492e9bcbc867",
            "cd5988c13e5742008eb3e1ef1cf9dd2a",
            "647c3680390643a0affd69d8050a3519",
            "cdb93c709bc747d4b9b24577a4d61667",
            "6cdbdc3801894a398230fe2af077240a",
            "29738690868947d189674b1d315ac12e",
            "cfdbe40824ad419d89da3356a4355764",
            "c9bb0e0e3ae84cf9857fec2fcb4323fb",
            "e6bc1a78ebb14d2d9249417da7380b16"
          ]
        }
      },
      "source": [
        "#@title Show 3D structure\n",
        "def show_pdb(model_name,\n",
        "             show_sidechains=False,\n",
        "             show_mainchain=False,\n",
        "             color=\"None\"):\n",
        "\n",
        "  def mainchain(p, color=\"white\", model=0):\n",
        "    BB = ['C','O','N','CA']\n",
        "    p.addStyle({\"model\":model,'atom':BB},\n",
        "                       {'stick':{'colorscheme':f\"{color}Carbon\",'radius':0.4}})\n",
        "\n",
        "  def sidechain(p, model=0):\n",
        "    HP = [\"ALA\",\"GLY\",\"VAL\",\"ILE\",\"LEU\",\"PHE\",\"MET\",\"PRO\",\"TRP\",\"CYS\",\"TYR\"]\n",
        "    BB = ['C','O','N']\n",
        "    p.addStyle({\"model\":model,'and':[{'resn':HP},{'atom':BB,'invert':True}]},\n",
        "              {'stick':{'colorscheme':\"yellowCarbon\",'radius':0.4}})\n",
        "    p.addStyle({\"model\":model,'and':[{'resn':\"GLY\"},{'atom':'CA'}]},\n",
        "              {'sphere':{'colorscheme':\"yellowCarbon\",'radius':0.4}})\n",
        "    p.addStyle({\"model\":model,'and':[{'resn':\"PRO\"},{'atom':['C','O'],'invert':True}]},\n",
        "              {'stick':{'colorscheme':\"yellowCarbon\",'radius':0.4}})  \n",
        "    p.addStyle({\"model\":model,'and':[{'resn':HP,'invert':True},{'atom':BB,'invert':True}]},\n",
        "              {'stick':{'colorscheme':\"whiteCarbon\",'radius':0.4}})\n",
        "\n",
        "  if use_amber:\n",
        "    pdb_filename = f\"{jobname}_relaxed_{model_name}.pdb\"\n",
        "  else:\n",
        "    pdb_filename = f\"{jobname}_unrelaxed_{model_name}.pdb\"\n",
        "\n",
        "  p = py3Dmol.view(js='https://3dmol.org/build/3Dmol.js')\n",
        "  p.addModel(open(pdb_filename,'r').read(),'pdb')\n",
        "  if color == \"lDDT\":\n",
        "    p.setStyle({'cartoon': {'colorscheme': {'prop':'b','gradient': 'roygb','min':0,'max':1}}})\n",
        "  elif color == \"rainbow\":\n",
        "    p.setStyle({'cartoon': {'color':'spectrum'}})\n",
        "  else:\n",
        "    p.setStyle({'cartoon':{}})\n",
        "\n",
        "  if show_sidechains: sidechain(p)\n",
        "  if show_mainchain: mainchain(p)\n",
        "  p.zoomTo()\n",
        "  return p.show()\n",
        "\n",
        "interact(show_pdb,\n",
        "         model_name=ipywidgets.Dropdown(options=model_params.keys(), value='model_1'),\n",
        "         show_sidechains=ipywidgets.Checkbox(value=False),\n",
        "         show_mainchain=ipywidgets.Checkbox(value=False),\n",
        "         color=ipywidgets.Dropdown(options=['None', 'rainbow', 'lDDT'], value='lDDT'))"
      ],
      "execution_count": 25,
      "outputs": [
        {
          "output_type": "display_data",
          "data": {
            "application/vnd.jupyter.widget-view+json": {
              "model_id": "93ad0d408a2a4c039b944f6c1244fdca",
              "version_minor": 0,
              "version_major": 2
            },
            "text/plain": [
              "interactive(children=(Dropdown(description='model_name', options=('model_1',), value='model_1'), Checkbox(valu…"
            ]
          },
          "metadata": {
            "tags": []
          }
        },
        {
          "output_type": "execute_result",
          "data": {
            "text/plain": [
              "<function __main__.show_pdb>"
            ]
          },
          "metadata": {
            "tags": []
          },
          "execution_count": 25
        }
      ]
    },
    {
      "cell_type": "code",
      "metadata": {
        "id": "33g5IIegij5R",
        "cellView": "form",
        "outputId": "c0312bc2-fbd9-454c-b4bd-460696d3c332",
        "colab": {
          "base_uri": "https://localhost:8080/",
          "height": 105
        }
      },
      "source": [
        "#@title Package and download results\n",
        "!zip -FSr $jobname\".result.zip\" $jobname\".log\" $a3m_file $jobname\"_msa_coverage.png\" $jobname\"_\"*\"relaxed_model_\"*\".pdb\" $jobname\"_lDDT.png\"\n",
        "files.download(f\"{jobname}.result.zip\")"
      ],
      "execution_count": 26,
      "outputs": [
        {
          "output_type": "stream",
          "text": [
            "  adding: RL30_ECOLI.log (deflated 18%)\n",
            "  adding: RL30_ECOLI.a3m (deflated 65%)\n",
            "  adding: RL30_ECOLI_msa_coverage.png (deflated 10%)\n",
            "  adding: RL30_ECOLI_unrelaxed_model_1.pdb (deflated 78%)\n",
            "  adding: RL30_ECOLI_lDDT.png (deflated 9%)\n"
          ],
          "name": "stdout"
        },
        {
          "output_type": "display_data",
          "data": {
            "application/javascript": [
              "\n",
              "    async function download(id, filename, size) {\n",
              "      if (!google.colab.kernel.accessAllowed) {\n",
              "        return;\n",
              "      }\n",
              "      const div = document.createElement('div');\n",
              "      const label = document.createElement('label');\n",
              "      label.textContent = `Downloading \"${filename}\": `;\n",
              "      div.appendChild(label);\n",
              "      const progress = document.createElement('progress');\n",
              "      progress.max = size;\n",
              "      div.appendChild(progress);\n",
              "      document.body.appendChild(div);\n",
              "\n",
              "      const buffers = [];\n",
              "      let downloaded = 0;\n",
              "\n",
              "      const channel = await google.colab.kernel.comms.open(id);\n",
              "      // Send a message to notify the kernel that we're ready.\n",
              "      channel.send({})\n",
              "\n",
              "      for await (const message of channel.messages) {\n",
              "        // Send a message to notify the kernel that we're ready.\n",
              "        channel.send({})\n",
              "        if (message.buffers) {\n",
              "          for (const buffer of message.buffers) {\n",
              "            buffers.push(buffer);\n",
              "            downloaded += buffer.byteLength;\n",
              "            progress.value = downloaded;\n",
              "          }\n",
              "        }\n",
              "      }\n",
              "      const blob = new Blob(buffers, {type: 'application/binary'});\n",
              "      const a = document.createElement('a');\n",
              "      a.href = window.URL.createObjectURL(blob);\n",
              "      a.download = filename;\n",
              "      div.appendChild(a);\n",
              "      a.click();\n",
              "      div.remove();\n",
              "    }\n",
              "  "
            ],
            "text/plain": [
              "<IPython.core.display.Javascript object>"
            ]
          },
          "metadata": {
            "tags": []
          }
        },
        {
          "output_type": "display_data",
          "data": {
            "application/javascript": [
              "download(\"download_55798d08-3695-44f0-a18b-c8792c5c89ab\", \"RL30_ECOLI.result.zip\", 137564)"
            ],
            "text/plain": [
              "<IPython.core.display.Javascript object>"
            ]
          },
          "metadata": {
            "tags": []
          }
        }
      ]
    },
    {
      "cell_type": "markdown",
      "metadata": {
        "id": "vP1m6jI7BgMT"
      },
      "source": [
        "# Instructions\n",
        "- If you having issues downloading results, try disable adblocker and run the last cell again. If that fails click on the little folder icon to the left, navigate to file:`jobname.result.zip`, right-click and select \"download\"."
      ]
    }
  ]
}