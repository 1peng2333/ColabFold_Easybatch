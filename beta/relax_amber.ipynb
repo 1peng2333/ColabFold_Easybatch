{
  "nbformat": 4,
  "nbformat_minor": 0,
  "metadata": {
    "colab": {
      "provenance": [],
      "authorship_tag": "ABX9TyMP4ycf8qwG63VafREP2zwJ",
      "include_colab_link": true
    },
    "kernelspec": {
      "name": "python3",
      "display_name": "Python 3"
    },
    "language_info": {
      "name": "python"
    }
  },
  "cells": [
    {
      "cell_type": "markdown",
      "metadata": {
        "id": "view-in-github",
        "colab_type": "text"
      },
      "source": [
        "<a href=\"https://colab.research.google.com/github/sokrypton/ColabFold/blob/main/beta/relax_amber.ipynb\" target=\"_parent\"><img src=\"https://colab.research.google.com/assets/colab-badge.svg\" alt=\"Open In Colab\"/></a>"
      ]
    },
    {
      "cell_type": "markdown",
      "source": [
        "#relax your structure (using amber)"
      ],
      "metadata": {
        "id": "TXSecRRnpGeN"
      }
    },
    {
      "cell_type": "code",
      "source": [
        "#@title install amber\n",
        "from IPython.utils import io\n",
        "import os\n",
        "import subprocess\n",
        "import tqdm.notebook\n",
        "TQDM_BAR_FORMAT = '{l_bar}{bar}| {n_fmt}/{total_fmt} [elapsed: {elapsed} remaining: {remaining}]'\n",
        "if not os.path.isfile(\"stereo_chemical_props.txt\"):\n",
        "  try:\n",
        "    with tqdm.notebook.tqdm(total=100, bar_format=TQDM_BAR_FORMAT) as pbar:\n",
        "      with io.capture_output() as captured:\n",
        "        # Install py3dmol.\n",
        "        %shell pip install py3dmol\n",
        "        pbar.update(4)\n",
        "\n",
        "        # Install OpenMM and pdbfixer.\n",
        "        %shell rm -rf /opt/conda\n",
        "        %shell wget -q -P /tmp \\\n",
        "          https://repo.anaconda.com/miniconda/Miniconda3-latest-Linux-x86_64.sh \\\n",
        "            && bash /tmp/Miniconda3-latest-Linux-x86_64.sh -b -p /opt/conda \\\n",
        "            && rm /tmp/Miniconda3-latest-Linux-x86_64.sh\n",
        "        pbar.update(15)\n",
        "\n",
        "        PATH=%env PATH\n",
        "        %env PATH=/opt/conda/bin:{PATH}\n",
        "        %shell conda install -qy conda==4.13.0 \\\n",
        "            && conda install -qy -c conda-forge \\\n",
        "              python=3.7 \\\n",
        "              openmm=7.5.1 \\\n",
        "              pdbfixer\n",
        "        pbar.update(80)\n",
        "\n",
        "        %shell wget -q -P /content \\\n",
        "          https://git.scicore.unibas.ch/schwede/openstructure/-/raw/7102c63615b64735c4941278d92b554ec94415f8/modules/mol/alg/src/stereo_chemical_props.txt\n",
        "        pbar.update(1)\n",
        "  except subprocess.CalledProcessError:\n",
        "    print(captured)\n",
        "    raise"
      ],
      "metadata": {
        "cellView": "form",
        "id": "1KKjet38pMys"
      },
      "execution_count": 5,
      "outputs": []
    },
    {
      "cell_type": "code",
      "source": [
        "#@title install AlphaFold\n",
        "import sys\n",
        "if not os.path.isdir(\"/content/alphafold\"):\n",
        "  GIT_REPO = 'https://github.com/deepmind/alphafold'\n",
        "  try:\n",
        "    with tqdm.notebook.tqdm(total=100, bar_format=TQDM_BAR_FORMAT) as pbar:\n",
        "      with io.capture_output() as captured:\n",
        "        %shell rm -rf alphafold\n",
        "        %shell git clone --branch main {GIT_REPO} alphafold\n",
        "        pbar.update(10)\n",
        "        # Install the required versions of all dependencies.\n",
        "        %shell pip3 install -r ./alphafold/requirements.txt\n",
        "        # Run setup.py to install only AlphaFold.\n",
        "        %shell pip3 install --no-dependencies ./alphafold\n",
        "        pbar.update(90)\n",
        "\n",
        "        # Apply OpenMM patch.\n",
        "        %shell pushd /opt/conda/lib/python3.7/site-packages/ && \\\n",
        "            patch -p0 < /content/alphafold/docker/openmm.patch && \\\n",
        "            popd\n",
        "\n",
        "        # Make sure stereo_chemical_props.txt is in all locations where it could be searched for.\n",
        "        %shell mkdir -p /content/alphafold/alphafold/common\n",
        "        %shell cp -f /content/stereo_chemical_props.txt /content/alphafold/alphafold/common\n",
        "        %shell mkdir -p /opt/conda/lib/python3.7/site-packages/alphafold/common/\n",
        "        %shell cp -f /content/stereo_chemical_props.txt /opt/conda/lib/python3.7/site-packages/alphafold/common/\n",
        "\n",
        "  except subprocess.CalledProcessError:\n",
        "    print(captured)\n",
        "    raise\n",
        "\n",
        "if \"/content/alphafold\" not in sys.path:\n",
        "  # Make sure everything we need is on the path.\n",
        "  sys.path.append('/opt/conda/lib/python3.7/site-packages')\n",
        "  sys.path.append('/content/alphafold')\n",
        "\n",
        "import warnings\n",
        "warnings.simplefilter(action='ignore', category=FutureWarning)\n",
        "\n",
        "from alphafold.relax import relax\n",
        "from alphafold.relax import utils\n",
        "from alphafold.common import protein\n",
        "\n",
        "def pdb_to_string(pdb_file):\n",
        "  lines = []\n",
        "  for line in open(pdb_file,\"r\"):\n",
        "    if line[:6] == \"HETATM\" and line[17:20] == \"MSE\":\n",
        "      line = \"ATOM  \"+line[6:17]+\"MET\"+line[20:]\n",
        "    if line[:4] == \"ATOM\":\n",
        "      lines.append(line)\n",
        "  return \"\".join(lines)\n",
        "\n",
        "def relax_me(pdb_in, pdb_out):\n",
        "    protein_obj = protein.from_pdb_string(pdb_to_string(pdb_in))\n",
        "    amber_relaxer = relax.AmberRelaxation(\n",
        "      max_iterations=0,\n",
        "      tolerance=2.39,\n",
        "      stiffness=10.0,\n",
        "      exclude_residues=[],\n",
        "      max_outer_iterations=3,\n",
        "      use_gpu=False)\n",
        "    relaxed_pdb_lines, _, _ = amber_relaxer.process(prot=protein_obj)\n",
        "    with open(pdb_out, 'w') as f:\n",
        "        f.write(relaxed_pdb_lines)"
      ],
      "metadata": {
        "cellView": "form",
        "id": "I51OdQIa7Xuz"
      },
      "execution_count": 6,
      "outputs": []
    },
    {
      "cell_type": "code",
      "source": [
        "relax_me(pdb_in=\"test_ce1eb_unrelaxed_rank_1_model_5.pdb\",\n",
        "         pdb_out=\"fix.pdb\")"
      ],
      "metadata": {
        "colab": {
          "base_uri": "https://localhost:8080/"
        },
        "id": "rEekqQXQ-Pec",
        "outputId": "3cfa0deb-9155-4c2c-9fcf-bbd844e2d77c"
      },
      "execution_count": 24,
      "outputs": [
        {
          "output_type": "stream",
          "name": "stderr",
          "text": [
            "WARNING:absl:No GPU/TPU found, falling back to CPU. (Set TF_CPP_MIN_LOG_LEVEL=0 and rerun for more info.)\n"
          ]
        }
      ]
    },
    {
      "cell_type": "code",
      "source": [],
      "metadata": {
        "id": "D1UpvieRAHUy"
      },
      "execution_count": null,
      "outputs": []
    }
  ]
}